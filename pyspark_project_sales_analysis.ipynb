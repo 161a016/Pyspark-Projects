{
 "cells": [
  {
   "cell_type": "code",
   "execution_count": 0,
   "metadata": {
    "application/vnd.databricks.v1+cell": {
     "cellMetadata": {
      "byteLimit": 2048000,
      "rowLimit": 10000
     },
     "inputWidgets": {},
     "nuid": "eeb2f1b8-c003-4cc5-8eb8-a352fae0ac5f",
     "showTitle": false,
     "title": ""
    }
   },
   "outputs": [],
   "source": [
    "import pyspark\n",
    "from pyspark.sql.functions import *\n",
    "from pyspark.sql import SparkSession\n",
    "from pyspark.sql.window import Window\n",
    "from pyspark.sql.types import StructType,StructField"
   ]
  },
  {
   "cell_type": "code",
   "execution_count": 0,
   "metadata": {
    "application/vnd.databricks.v1+cell": {
     "cellMetadata": {
      "byteLimit": 2048000,
      "rowLimit": 10000
     },
     "inputWidgets": {},
     "nuid": "bd6c2d03-045b-4d55-9fec-1ed7ebee4ec4",
     "showTitle": false,
     "title": ""
    }
   },
   "outputs": [
    {
     "output_type": "stream",
     "name": "stdout",
     "output_type": "stream",
     "text": [
      "+---+---+-----------+-----+----------+\n|_c0|_c1|        _c2|  _c3|       _c4|\n+---+---+-----------+-----+----------+\n|  1|  A| 2023-01-01|India|    Swiggy|\n|  2|  A| 2022-01-01|India|    Swiggy|\n|  2|  A| 2023-01-07|India|    Swiggy|\n|  3|  A| 2023-01-10|India|Restaurant|\n|  3|  A| 2022-01-11|India|    Swiggy|\n|  3|  A| 2023-01-11|India|Restaurant|\n|  2|  B| 2022-02-01|India|    Swiggy|\n|  2|  B| 2023-01-02|India|    Swiggy|\n|  1|  B| 2023-01-04|India|Restaurant|\n|  1|  B| 2023-02-11|India|    Swiggy|\n|  3|  B| 2023-01-16|India|    zomato|\n|  3|  B| 2022-02-01|India|    zomato|\n|  3|  C| 2023-01-01|India|    zomato|\n|  1|  C| 2023-01-01|   UK|    Swiggy|\n|  6|  C| 2022-01-07|   UK|    zomato|\n|  3|  D| 2023-02-16|   UK|Restaurant|\n|  5|  D| 2022-02-01|   UK|    zomato|\n|  3|  E| 2023-02-01|   UK|Restaurant|\n|  4|  E| 2023-02-01|   UK|    Swiggy|\n|  4|  E| 2023-02-07|   UK|Restaurant|\n+---+---+-----------+-----+----------+\nonly showing top 20 rows\n\n"
     ]
    }
   ],
   "source": [
    "spark=SparkSession.builder.appName(\"sales_analysis\").getOrCreate()\n",
    "data=spark.read.csv(\"/FileStore/tables/sales_csv.txt\")\n",
    "data.show()"
   ]
  },
  {
   "cell_type": "code",
   "execution_count": 0,
   "metadata": {
    "application/vnd.databricks.v1+cell": {
     "cellMetadata": {
      "byteLimit": 2048000,
      "rowLimit": 10000
     },
     "inputWidgets": {},
     "nuid": "a24cac35-9378-4ff5-960d-00170d5b4875",
     "showTitle": false,
     "title": ""
    }
   },
   "outputs": [
    {
     "output_type": "stream",
     "name": "stdout",
     "output_type": "stream",
     "text": [
      "+---+---------+----+----+\n|_c0|      _c1| _c2| _c3|\n+---+---------+----+----+\n|  1|    PIZZA| 100|null|\n|  2|  Chowmin| 150|null|\n|  3| sandwich| 120|null|\n|  4|     Dosa| 110|null|\n|  5|  Biryani|  80|null|\n|  6|    Pasta| 180|null|\n+---+---------+----+----+\n\n"
     ]
    }
   ],
   "source": [
    "df_menu=spark.read.csv(\"/FileStore/tables/menu_csv.txt\")\n",
    "df_menu.show()"
   ]
  },
  {
   "cell_type": "code",
   "execution_count": 0,
   "metadata": {
    "application/vnd.databricks.v1+cell": {
     "cellMetadata": {
      "byteLimit": 2048000,
      "rowLimit": 10000
     },
     "inputWidgets": {},
     "nuid": "79555e2c-5e59-43cc-b880-83898781d5eb",
     "showTitle": false,
     "title": ""
    }
   },
   "outputs": [
    {
     "output_type": "stream",
     "name": "stdout",
     "output_type": "stream",
     "text": [
      "root\n |-- _c0: string (nullable = true)\n |-- _c1: string (nullable = true)\n |-- _c2: string (nullable = true)\n |-- _c3: string (nullable = true)\n |-- _c4: string (nullable = true)\n\n"
     ]
    }
   ],
   "source": [
    "df_sales.printSchema()"
   ]
  },
  {
   "cell_type": "code",
   "execution_count": 0,
   "metadata": {
    "application/vnd.databricks.v1+cell": {
     "cellMetadata": {
      "byteLimit": 2048000,
      "rowLimit": 10000
     },
     "inputWidgets": {},
     "nuid": "d0d15414-eecc-4661-acbd-4831d0effc5d",
     "showTitle": false,
     "title": ""
    }
   },
   "outputs": [],
   "source": [
    "from pyspark.sql.types import StructType,IntegerType,DateType \n",
    "schema=StructType([\n",
    "    StructField(\"product_id\",IntegerType(),True),\n",
    "    StructField(\"customer_id\",StringType(),True),\n",
    "    StructField(\"order_date\",DateType(),True),\n",
    "    StructField(\"Location\",StringType(),True),\n",
    "    StructField(\"source_order\",IntegerType(),True)\n",
    "])\n"
   ]
  },
  {
   "cell_type": "code",
   "execution_count": 0,
   "metadata": {
    "application/vnd.databricks.v1+cell": {
     "cellMetadata": {
      "byteLimit": 2048000,
      "rowLimit": 10000
     },
     "inputWidgets": {},
     "nuid": "c3d0d5d7-f33f-4818-95a8-3fc0aa0266bf",
     "showTitle": false,
     "title": ""
    }
   },
   "outputs": [],
   "source": [
    "sales_df=spark.read.format(\"csv\").option(\"inferschema\",\"true\").schema(schema).load(\"/FileStore/tables/sales_csv.txt\")"
   ]
  },
  {
   "cell_type": "code",
   "execution_count": 0,
   "metadata": {
    "application/vnd.databricks.v1+cell": {
     "cellMetadata": {
      "byteLimit": 2048000,
      "rowLimit": 10000
     },
     "inputWidgets": {},
     "nuid": "9dc76ee1-e1b0-44ef-b9b1-4d85e937858c",
     "showTitle": false,
     "title": ""
    }
   },
   "outputs": [
    {
     "output_type": "display_data",
     "data": {
      "text/html": [
       "<style scoped>\n",
       "  .table-result-container {\n",
       "    max-height: 300px;\n",
       "    overflow: auto;\n",
       "  }\n",
       "  table, th, td {\n",
       "    border: 1px solid black;\n",
       "    border-collapse: collapse;\n",
       "  }\n",
       "  th, td {\n",
       "    padding: 5px;\n",
       "  }\n",
       "  th {\n",
       "    text-align: left;\n",
       "  }\n",
       "</style><div class='table-result-container'><table class='table-result'><thead style='background-color: white'><tr><th>product_id</th><th>customer_id</th><th>order_date</th><th>Location</th><th>source_order</th></tr></thead><tbody><tr><td>1</td><td>A</td><td>2023-01-01</td><td>India</td><td>null</td></tr><tr><td>2</td><td>A</td><td>2022-01-01</td><td>India</td><td>null</td></tr><tr><td>2</td><td>A</td><td>2023-01-07</td><td>India</td><td>null</td></tr><tr><td>3</td><td>A</td><td>2023-01-10</td><td>India</td><td>null</td></tr><tr><td>3</td><td>A</td><td>2022-01-11</td><td>India</td><td>null</td></tr><tr><td>3</td><td>A</td><td>2023-01-11</td><td>India</td><td>null</td></tr><tr><td>2</td><td>B</td><td>2022-02-01</td><td>India</td><td>null</td></tr><tr><td>2</td><td>B</td><td>2023-01-02</td><td>India</td><td>null</td></tr><tr><td>1</td><td>B</td><td>2023-01-04</td><td>India</td><td>null</td></tr><tr><td>1</td><td>B</td><td>2023-02-11</td><td>India</td><td>null</td></tr><tr><td>3</td><td>B</td><td>2023-01-16</td><td>India</td><td>null</td></tr><tr><td>3</td><td>B</td><td>2022-02-01</td><td>India</td><td>null</td></tr><tr><td>3</td><td>C</td><td>2023-01-01</td><td>India</td><td>null</td></tr><tr><td>1</td><td>C</td><td>2023-01-01</td><td>UK</td><td>null</td></tr><tr><td>6</td><td>C</td><td>2022-01-07</td><td>UK</td><td>null</td></tr><tr><td>3</td><td>D</td><td>2023-02-16</td><td>UK</td><td>null</td></tr><tr><td>5</td><td>D</td><td>2022-02-01</td><td>UK</td><td>null</td></tr><tr><td>3</td><td>E</td><td>2023-02-01</td><td>UK</td><td>null</td></tr><tr><td>4</td><td>E</td><td>2023-02-01</td><td>UK</td><td>null</td></tr><tr><td>4</td><td>E</td><td>2023-02-07</td><td>UK</td><td>null</td></tr><tr><td>2</td><td>A</td><td>2022-01-01</td><td>UK</td><td>null</td></tr><tr><td>2</td><td>A</td><td>2023-01-07</td><td>UK</td><td>null</td></tr><tr><td>3</td><td>A</td><td>2023-01-10</td><td>UK</td><td>null</td></tr><tr><td>3</td><td>A</td><td>2022-01-11</td><td>UK</td><td>null</td></tr><tr><td>3</td><td>A</td><td>2023-01-11</td><td>UK</td><td>null</td></tr><tr><td>2</td><td>B</td><td>2022-03-01</td><td>UK</td><td>null</td></tr><tr><td>2</td><td>B</td><td>2023-01-02</td><td>UK</td><td>null</td></tr><tr><td>1</td><td>B</td><td>2023-01-04</td><td>UK</td><td>null</td></tr><tr><td>1</td><td>B</td><td>2023-03-11</td><td>UK</td><td>null</td></tr><tr><td>3</td><td>B</td><td>2023-01-16</td><td>UK</td><td>null</td></tr><tr><td>3</td><td>B</td><td>2023-03-01</td><td>UK</td><td>null</td></tr><tr><td>3</td><td>C</td><td>2023-01-01</td><td>UK</td><td>null</td></tr><tr><td>1</td><td>C</td><td>2023-01-01</td><td>USA</td><td>null</td></tr><tr><td>6</td><td>C</td><td>2023-01-07</td><td>USA</td><td>null</td></tr><tr><td>3</td><td>D</td><td>2022-03-16</td><td>USA</td><td>null</td></tr><tr><td>5</td><td>D</td><td>2023-03-01</td><td>USA</td><td>null</td></tr><tr><td>3</td><td>E</td><td>2023-03-01</td><td>USA</td><td>null</td></tr><tr><td>4</td><td>E</td><td>2022-03-01</td><td>USA</td><td>null</td></tr><tr><td>4</td><td>E</td><td>2023-03-07</td><td>USA</td><td>null</td></tr><tr><td>1</td><td>A</td><td>2023-05-05</td><td>India</td><td>null</td></tr><tr><td>2</td><td>A</td><td>2022-05-05</td><td>India</td><td>null</td></tr><tr><td>2</td><td>A</td><td>2023-05-07</td><td>India</td><td>null</td></tr><tr><td>3</td><td>A</td><td>2023-05-10</td><td>India</td><td>null</td></tr><tr><td>3</td><td>A</td><td>2022-05-11</td><td>India</td><td>null</td></tr><tr><td>3</td><td>A</td><td>2023-05-11</td><td>India</td><td>null</td></tr><tr><td>2</td><td>B</td><td>2022-02-05</td><td>India</td><td>null</td></tr><tr><td>2</td><td>B</td><td>2023-05-02</td><td>India</td><td>null</td></tr><tr><td>1</td><td>B</td><td>2023-05-04</td><td>India</td><td>null</td></tr><tr><td>1</td><td>B</td><td>2023-02-11</td><td>India</td><td>null</td></tr><tr><td>3</td><td>B</td><td>2023-05-16</td><td>India</td><td>null</td></tr><tr><td>3</td><td>B</td><td>2022-02-05</td><td>India</td><td>null</td></tr><tr><td>3</td><td>C</td><td>2023-05-05</td><td>India</td><td>null</td></tr><tr><td>1</td><td>C</td><td>2023-05-05</td><td>UK</td><td>null</td></tr><tr><td>6</td><td>C</td><td>2022-05-07</td><td>UK</td><td>null</td></tr><tr><td>3</td><td>D</td><td>2023-02-16</td><td>UK</td><td>null</td></tr><tr><td>5</td><td>D</td><td>2022-02-05</td><td>UK</td><td>null</td></tr><tr><td>3</td><td>E</td><td>2023-02-05</td><td>UK</td><td>null</td></tr><tr><td>4</td><td>E</td><td>2023-02-05</td><td>UK</td><td>null</td></tr><tr><td>4</td><td>E</td><td>2023-02-07</td><td>UK</td><td>null</td></tr><tr><td>2</td><td>A</td><td>2022-05-05</td><td>UK</td><td>null</td></tr><tr><td>2</td><td>A</td><td>2023-05-07</td><td>UK</td><td>null</td></tr><tr><td>3</td><td>A</td><td>2023-05-10</td><td>UK</td><td>null</td></tr><tr><td>3</td><td>A</td><td>2022-05-11</td><td>UK</td><td>null</td></tr><tr><td>3</td><td>A</td><td>2023-05-11</td><td>UK</td><td>null</td></tr><tr><td>2</td><td>B</td><td>2022-07-05</td><td>UK</td><td>null</td></tr><tr><td>2</td><td>B</td><td>2023-05-02</td><td>UK</td><td>null</td></tr><tr><td>1</td><td>B</td><td>2023-05-04</td><td>UK</td><td>null</td></tr><tr><td>1</td><td>B</td><td>2023-07-11</td><td>UK</td><td>null</td></tr><tr><td>3</td><td>B</td><td>2023-05-16</td><td>UK</td><td>null</td></tr><tr><td>3</td><td>B</td><td>2023-07-05</td><td>UK</td><td>null</td></tr><tr><td>3</td><td>C</td><td>2023-05-05</td><td>UK</td><td>null</td></tr><tr><td>1</td><td>C</td><td>2023-05-05</td><td>USA</td><td>null</td></tr><tr><td>6</td><td>C</td><td>2023-05-07</td><td>USA</td><td>null</td></tr><tr><td>3</td><td>D</td><td>2022-07-16</td><td>USA</td><td>null</td></tr><tr><td>5</td><td>D</td><td>2023-07-05</td><td>USA</td><td>null</td></tr><tr><td>3</td><td>E</td><td>2023-07-05</td><td>USA</td><td>null</td></tr><tr><td>4</td><td>E</td><td>2022-07-05</td><td>USA</td><td>null</td></tr><tr><td>4</td><td>E</td><td>2023-07-07</td><td>USA</td><td>null</td></tr><tr><td>1</td><td>A</td><td>2023-06-06</td><td>India</td><td>null</td></tr><tr><td>2</td><td>A</td><td>2022-06-06</td><td>India</td><td>null</td></tr><tr><td>2</td><td>A</td><td>2023-06-11</td><td>India</td><td>null</td></tr><tr><td>3</td><td>A</td><td>2023-06-10</td><td>India</td><td>null</td></tr><tr><td>3</td><td>A</td><td>2022-06-11</td><td>India</td><td>null</td></tr><tr><td>3</td><td>A</td><td>2023-06-11</td><td>India</td><td>null</td></tr><tr><td>2</td><td>B</td><td>2022-02-06</td><td>India</td><td>null</td></tr><tr><td>2</td><td>B</td><td>2023-06-02</td><td>India</td><td>null</td></tr><tr><td>1</td><td>B</td><td>2023-06-04</td><td>India</td><td>null</td></tr><tr><td>1</td><td>B</td><td>2023-02-11</td><td>India</td><td>null</td></tr><tr><td>3</td><td>B</td><td>2023-06-16</td><td>India</td><td>null</td></tr><tr><td>3</td><td>B</td><td>2022-02-06</td><td>India</td><td>null</td></tr><tr><td>3</td><td>C</td><td>2023-06-06</td><td>India</td><td>null</td></tr><tr><td>1</td><td>C</td><td>2023-06-06</td><td>UK</td><td>null</td></tr><tr><td>6</td><td>C</td><td>2022-06-11</td><td>UK</td><td>null</td></tr><tr><td>3</td><td>D</td><td>2023-02-16</td><td>UK</td><td>null</td></tr><tr><td>5</td><td>D</td><td>2022-02-06</td><td>UK</td><td>null</td></tr><tr><td>3</td><td>E</td><td>2023-02-06</td><td>UK</td><td>null</td></tr><tr><td>4</td><td>E</td><td>2023-02-06</td><td>UK</td><td>null</td></tr><tr><td>4</td><td>E</td><td>2023-02-11</td><td>UK</td><td>null</td></tr><tr><td>2</td><td>A</td><td>2022-06-06</td><td>UK</td><td>null</td></tr><tr><td>2</td><td>A</td><td>2023-06-11</td><td>UK</td><td>null</td></tr><tr><td>3</td><td>A</td><td>2023-06-10</td><td>UK</td><td>null</td></tr><tr><td>3</td><td>A</td><td>2022-06-11</td><td>UK</td><td>null</td></tr><tr><td>3</td><td>A</td><td>2023-06-11</td><td>UK</td><td>null</td></tr><tr><td>2</td><td>B</td><td>2022-11-06</td><td>UK</td><td>null</td></tr><tr><td>2</td><td>B</td><td>2023-06-02</td><td>UK</td><td>null</td></tr><tr><td>1</td><td>B</td><td>2023-06-04</td><td>UK</td><td>null</td></tr><tr><td>1</td><td>B</td><td>2023-11-11</td><td>UK</td><td>null</td></tr><tr><td>3</td><td>B</td><td>2023-06-16</td><td>UK</td><td>null</td></tr><tr><td>3</td><td>B</td><td>2023-11-06</td><td>UK</td><td>null</td></tr><tr><td>3</td><td>C</td><td>2023-06-06</td><td>UK</td><td>null</td></tr><tr><td>1</td><td>C</td><td>2023-06-06</td><td>USA</td><td>null</td></tr><tr><td>6</td><td>C</td><td>2023-06-11</td><td>USA</td><td>null</td></tr><tr><td>3</td><td>D</td><td>2022-11-16</td><td>USA</td><td>null</td></tr><tr><td>5</td><td>D</td><td>2023-11-06</td><td>USA</td><td>null</td></tr><tr><td>3</td><td>E</td><td>2023-11-06</td><td>USA</td><td>null</td></tr><tr><td>4</td><td>E</td><td>2022-11-06</td><td>USA</td><td>null</td></tr><tr><td>4</td><td>E</td><td>2023-11-11</td><td>USA</td><td>null</td></tr></tbody></table></div>"
      ]
     },
     "metadata": {
      "application/vnd.databricks.v1+output": {
       "addedWidgets": {},
       "aggData": [],
       "aggError": "",
       "aggOverflow": false,
       "aggSchema": [],
       "aggSeriesLimitReached": false,
       "aggType": "",
       "arguments": {},
       "columnCustomDisplayInfos": {},
       "data": [
        [
         1,
         "A",
         "2023-01-01",
         "India",
         null
        ],
        [
         2,
         "A",
         "2022-01-01",
         "India",
         null
        ],
        [
         2,
         "A",
         "2023-01-07",
         "India",
         null
        ],
        [
         3,
         "A",
         "2023-01-10",
         "India",
         null
        ],
        [
         3,
         "A",
         "2022-01-11",
         "India",
         null
        ],
        [
         3,
         "A",
         "2023-01-11",
         "India",
         null
        ],
        [
         2,
         "B",
         "2022-02-01",
         "India",
         null
        ],
        [
         2,
         "B",
         "2023-01-02",
         "India",
         null
        ],
        [
         1,
         "B",
         "2023-01-04",
         "India",
         null
        ],
        [
         1,
         "B",
         "2023-02-11",
         "India",
         null
        ],
        [
         3,
         "B",
         "2023-01-16",
         "India",
         null
        ],
        [
         3,
         "B",
         "2022-02-01",
         "India",
         null
        ],
        [
         3,
         "C",
         "2023-01-01",
         "India",
         null
        ],
        [
         1,
         "C",
         "2023-01-01",
         "UK",
         null
        ],
        [
         6,
         "C",
         "2022-01-07",
         "UK",
         null
        ],
        [
         3,
         "D",
         "2023-02-16",
         "UK",
         null
        ],
        [
         5,
         "D",
         "2022-02-01",
         "UK",
         null
        ],
        [
         3,
         "E",
         "2023-02-01",
         "UK",
         null
        ],
        [
         4,
         "E",
         "2023-02-01",
         "UK",
         null
        ],
        [
         4,
         "E",
         "2023-02-07",
         "UK",
         null
        ],
        [
         2,
         "A",
         "2022-01-01",
         "UK",
         null
        ],
        [
         2,
         "A",
         "2023-01-07",
         "UK",
         null
        ],
        [
         3,
         "A",
         "2023-01-10",
         "UK",
         null
        ],
        [
         3,
         "A",
         "2022-01-11",
         "UK",
         null
        ],
        [
         3,
         "A",
         "2023-01-11",
         "UK",
         null
        ],
        [
         2,
         "B",
         "2022-03-01",
         "UK",
         null
        ],
        [
         2,
         "B",
         "2023-01-02",
         "UK",
         null
        ],
        [
         1,
         "B",
         "2023-01-04",
         "UK",
         null
        ],
        [
         1,
         "B",
         "2023-03-11",
         "UK",
         null
        ],
        [
         3,
         "B",
         "2023-01-16",
         "UK",
         null
        ],
        [
         3,
         "B",
         "2023-03-01",
         "UK",
         null
        ],
        [
         3,
         "C",
         "2023-01-01",
         "UK",
         null
        ],
        [
         1,
         "C",
         "2023-01-01",
         "USA",
         null
        ],
        [
         6,
         "C",
         "2023-01-07",
         "USA",
         null
        ],
        [
         3,
         "D",
         "2022-03-16",
         "USA",
         null
        ],
        [
         5,
         "D",
         "2023-03-01",
         "USA",
         null
        ],
        [
         3,
         "E",
         "2023-03-01",
         "USA",
         null
        ],
        [
         4,
         "E",
         "2022-03-01",
         "USA",
         null
        ],
        [
         4,
         "E",
         "2023-03-07",
         "USA",
         null
        ],
        [
         1,
         "A",
         "2023-05-05",
         "India",
         null
        ],
        [
         2,
         "A",
         "2022-05-05",
         "India",
         null
        ],
        [
         2,
         "A",
         "2023-05-07",
         "India",
         null
        ],
        [
         3,
         "A",
         "2023-05-10",
         "India",
         null
        ],
        [
         3,
         "A",
         "2022-05-11",
         "India",
         null
        ],
        [
         3,
         "A",
         "2023-05-11",
         "India",
         null
        ],
        [
         2,
         "B",
         "2022-02-05",
         "India",
         null
        ],
        [
         2,
         "B",
         "2023-05-02",
         "India",
         null
        ],
        [
         1,
         "B",
         "2023-05-04",
         "India",
         null
        ],
        [
         1,
         "B",
         "2023-02-11",
         "India",
         null
        ],
        [
         3,
         "B",
         "2023-05-16",
         "India",
         null
        ],
        [
         3,
         "B",
         "2022-02-05",
         "India",
         null
        ],
        [
         3,
         "C",
         "2023-05-05",
         "India",
         null
        ],
        [
         1,
         "C",
         "2023-05-05",
         "UK",
         null
        ],
        [
         6,
         "C",
         "2022-05-07",
         "UK",
         null
        ],
        [
         3,
         "D",
         "2023-02-16",
         "UK",
         null
        ],
        [
         5,
         "D",
         "2022-02-05",
         "UK",
         null
        ],
        [
         3,
         "E",
         "2023-02-05",
         "UK",
         null
        ],
        [
         4,
         "E",
         "2023-02-05",
         "UK",
         null
        ],
        [
         4,
         "E",
         "2023-02-07",
         "UK",
         null
        ],
        [
         2,
         "A",
         "2022-05-05",
         "UK",
         null
        ],
        [
         2,
         "A",
         "2023-05-07",
         "UK",
         null
        ],
        [
         3,
         "A",
         "2023-05-10",
         "UK",
         null
        ],
        [
         3,
         "A",
         "2022-05-11",
         "UK",
         null
        ],
        [
         3,
         "A",
         "2023-05-11",
         "UK",
         null
        ],
        [
         2,
         "B",
         "2022-07-05",
         "UK",
         null
        ],
        [
         2,
         "B",
         "2023-05-02",
         "UK",
         null
        ],
        [
         1,
         "B",
         "2023-05-04",
         "UK",
         null
        ],
        [
         1,
         "B",
         "2023-07-11",
         "UK",
         null
        ],
        [
         3,
         "B",
         "2023-05-16",
         "UK",
         null
        ],
        [
         3,
         "B",
         "2023-07-05",
         "UK",
         null
        ],
        [
         3,
         "C",
         "2023-05-05",
         "UK",
         null
        ],
        [
         1,
         "C",
         "2023-05-05",
         "USA",
         null
        ],
        [
         6,
         "C",
         "2023-05-07",
         "USA",
         null
        ],
        [
         3,
         "D",
         "2022-07-16",
         "USA",
         null
        ],
        [
         5,
         "D",
         "2023-07-05",
         "USA",
         null
        ],
        [
         3,
         "E",
         "2023-07-05",
         "USA",
         null
        ],
        [
         4,
         "E",
         "2022-07-05",
         "USA",
         null
        ],
        [
         4,
         "E",
         "2023-07-07",
         "USA",
         null
        ],
        [
         1,
         "A",
         "2023-06-06",
         "India",
         null
        ],
        [
         2,
         "A",
         "2022-06-06",
         "India",
         null
        ],
        [
         2,
         "A",
         "2023-06-11",
         "India",
         null
        ],
        [
         3,
         "A",
         "2023-06-10",
         "India",
         null
        ],
        [
         3,
         "A",
         "2022-06-11",
         "India",
         null
        ],
        [
         3,
         "A",
         "2023-06-11",
         "India",
         null
        ],
        [
         2,
         "B",
         "2022-02-06",
         "India",
         null
        ],
        [
         2,
         "B",
         "2023-06-02",
         "India",
         null
        ],
        [
         1,
         "B",
         "2023-06-04",
         "India",
         null
        ],
        [
         1,
         "B",
         "2023-02-11",
         "India",
         null
        ],
        [
         3,
         "B",
         "2023-06-16",
         "India",
         null
        ],
        [
         3,
         "B",
         "2022-02-06",
         "India",
         null
        ],
        [
         3,
         "C",
         "2023-06-06",
         "India",
         null
        ],
        [
         1,
         "C",
         "2023-06-06",
         "UK",
         null
        ],
        [
         6,
         "C",
         "2022-06-11",
         "UK",
         null
        ],
        [
         3,
         "D",
         "2023-02-16",
         "UK",
         null
        ],
        [
         5,
         "D",
         "2022-02-06",
         "UK",
         null
        ],
        [
         3,
         "E",
         "2023-02-06",
         "UK",
         null
        ],
        [
         4,
         "E",
         "2023-02-06",
         "UK",
         null
        ],
        [
         4,
         "E",
         "2023-02-11",
         "UK",
         null
        ],
        [
         2,
         "A",
         "2022-06-06",
         "UK",
         null
        ],
        [
         2,
         "A",
         "2023-06-11",
         "UK",
         null
        ],
        [
         3,
         "A",
         "2023-06-10",
         "UK",
         null
        ],
        [
         3,
         "A",
         "2022-06-11",
         "UK",
         null
        ],
        [
         3,
         "A",
         "2023-06-11",
         "UK",
         null
        ],
        [
         2,
         "B",
         "2022-11-06",
         "UK",
         null
        ],
        [
         2,
         "B",
         "2023-06-02",
         "UK",
         null
        ],
        [
         1,
         "B",
         "2023-06-04",
         "UK",
         null
        ],
        [
         1,
         "B",
         "2023-11-11",
         "UK",
         null
        ],
        [
         3,
         "B",
         "2023-06-16",
         "UK",
         null
        ],
        [
         3,
         "B",
         "2023-11-06",
         "UK",
         null
        ],
        [
         3,
         "C",
         "2023-06-06",
         "UK",
         null
        ],
        [
         1,
         "C",
         "2023-06-06",
         "USA",
         null
        ],
        [
         6,
         "C",
         "2023-06-11",
         "USA",
         null
        ],
        [
         3,
         "D",
         "2022-11-16",
         "USA",
         null
        ],
        [
         5,
         "D",
         "2023-11-06",
         "USA",
         null
        ],
        [
         3,
         "E",
         "2023-11-06",
         "USA",
         null
        ],
        [
         4,
         "E",
         "2022-11-06",
         "USA",
         null
        ],
        [
         4,
         "E",
         "2023-11-11",
         "USA",
         null
        ]
       ],
       "datasetInfos": [],
       "dbfsResultPath": null,
       "isJsonSchema": true,
       "metadata": {},
       "overflow": false,
       "plotOptions": {
        "customPlotOptions": {},
        "displayType": "table",
        "pivotAggregation": null,
        "pivotColumns": null,
        "xColumns": null,
        "yColumns": null
       },
       "removedWidgets": [],
       "schema": [
        {
         "metadata": "{}",
         "name": "product_id",
         "type": "\"integer\""
        },
        {
         "metadata": "{}",
         "name": "customer_id",
         "type": "\"string\""
        },
        {
         "metadata": "{}",
         "name": "order_date",
         "type": "\"date\""
        },
        {
         "metadata": "{}",
         "name": "Location",
         "type": "\"string\""
        },
        {
         "metadata": "{}",
         "name": "source_order",
         "type": "\"integer\""
        }
       ],
       "type": "table"
      }
     },
     "output_type": "display_data"
    }
   ],
   "source": [
    "display(sales_df)"
   ]
  },
  {
   "cell_type": "code",
   "execution_count": 0,
   "metadata": {
    "application/vnd.databricks.v1+cell": {
     "cellMetadata": {
      "byteLimit": 2048000,
      "rowLimit": 10000
     },
     "inputWidgets": {},
     "nuid": "fbf91f7e-2bfd-45ce-b3a8-014553c78f4b",
     "showTitle": false,
     "title": ""
    }
   },
   "outputs": [],
   "source": [
    "##deriving year,month and quarter sales \n",
    "from pyspark.sql.functions import month,year,quarter\n",
    "sales_df=sales_df.withColumn(\"order_year\",year(sales_df.order_date))\n",
    "sales_df=sales_df.withColumn(\"order_month\",month(sales_df.order_date))\n",
    "sales_df=sales_df.withColumn(\"order_quarter\",quarter(sales_df.order_date))\n"
   ]
  },
  {
   "cell_type": "code",
   "execution_count": 0,
   "metadata": {
    "application/vnd.databricks.v1+cell": {
     "cellMetadata": {
      "byteLimit": 2048000,
      "rowLimit": 10000
     },
     "inputWidgets": {},
     "nuid": "c5eba011-ae0c-4f4c-9281-f552d8752907",
     "showTitle": false,
     "title": ""
    }
   },
   "outputs": [
    {
     "output_type": "display_data",
     "data": {
      "text/html": [
       "<style scoped>\n",
       "  .table-result-container {\n",
       "    max-height: 300px;\n",
       "    overflow: auto;\n",
       "  }\n",
       "  table, th, td {\n",
       "    border: 1px solid black;\n",
       "    border-collapse: collapse;\n",
       "  }\n",
       "  th, td {\n",
       "    padding: 5px;\n",
       "  }\n",
       "  th {\n",
       "    text-align: left;\n",
       "  }\n",
       "</style><div class='table-result-container'><table class='table-result'><thead style='background-color: white'><tr><th>product_id</th><th>customer_id</th><th>order_date</th><th>Location</th><th>source_order</th><th>order_year</th><th>order_month</th><th>order_quarter</th></tr></thead><tbody><tr><td>1</td><td>A</td><td>2023-01-01</td><td>India</td><td>null</td><td>2023</td><td>1</td><td>1</td></tr><tr><td>2</td><td>A</td><td>2022-01-01</td><td>India</td><td>null</td><td>2022</td><td>1</td><td>1</td></tr><tr><td>2</td><td>A</td><td>2023-01-07</td><td>India</td><td>null</td><td>2023</td><td>1</td><td>1</td></tr><tr><td>3</td><td>A</td><td>2023-01-10</td><td>India</td><td>null</td><td>2023</td><td>1</td><td>1</td></tr><tr><td>3</td><td>A</td><td>2022-01-11</td><td>India</td><td>null</td><td>2022</td><td>1</td><td>1</td></tr><tr><td>3</td><td>A</td><td>2023-01-11</td><td>India</td><td>null</td><td>2023</td><td>1</td><td>1</td></tr><tr><td>2</td><td>B</td><td>2022-02-01</td><td>India</td><td>null</td><td>2022</td><td>2</td><td>1</td></tr><tr><td>2</td><td>B</td><td>2023-01-02</td><td>India</td><td>null</td><td>2023</td><td>1</td><td>1</td></tr><tr><td>1</td><td>B</td><td>2023-01-04</td><td>India</td><td>null</td><td>2023</td><td>1</td><td>1</td></tr><tr><td>1</td><td>B</td><td>2023-02-11</td><td>India</td><td>null</td><td>2023</td><td>2</td><td>1</td></tr><tr><td>3</td><td>B</td><td>2023-01-16</td><td>India</td><td>null</td><td>2023</td><td>1</td><td>1</td></tr><tr><td>3</td><td>B</td><td>2022-02-01</td><td>India</td><td>null</td><td>2022</td><td>2</td><td>1</td></tr><tr><td>3</td><td>C</td><td>2023-01-01</td><td>India</td><td>null</td><td>2023</td><td>1</td><td>1</td></tr><tr><td>1</td><td>C</td><td>2023-01-01</td><td>UK</td><td>null</td><td>2023</td><td>1</td><td>1</td></tr><tr><td>6</td><td>C</td><td>2022-01-07</td><td>UK</td><td>null</td><td>2022</td><td>1</td><td>1</td></tr><tr><td>3</td><td>D</td><td>2023-02-16</td><td>UK</td><td>null</td><td>2023</td><td>2</td><td>1</td></tr><tr><td>5</td><td>D</td><td>2022-02-01</td><td>UK</td><td>null</td><td>2022</td><td>2</td><td>1</td></tr><tr><td>3</td><td>E</td><td>2023-02-01</td><td>UK</td><td>null</td><td>2023</td><td>2</td><td>1</td></tr><tr><td>4</td><td>E</td><td>2023-02-01</td><td>UK</td><td>null</td><td>2023</td><td>2</td><td>1</td></tr><tr><td>4</td><td>E</td><td>2023-02-07</td><td>UK</td><td>null</td><td>2023</td><td>2</td><td>1</td></tr><tr><td>2</td><td>A</td><td>2022-01-01</td><td>UK</td><td>null</td><td>2022</td><td>1</td><td>1</td></tr><tr><td>2</td><td>A</td><td>2023-01-07</td><td>UK</td><td>null</td><td>2023</td><td>1</td><td>1</td></tr><tr><td>3</td><td>A</td><td>2023-01-10</td><td>UK</td><td>null</td><td>2023</td><td>1</td><td>1</td></tr><tr><td>3</td><td>A</td><td>2022-01-11</td><td>UK</td><td>null</td><td>2022</td><td>1</td><td>1</td></tr><tr><td>3</td><td>A</td><td>2023-01-11</td><td>UK</td><td>null</td><td>2023</td><td>1</td><td>1</td></tr><tr><td>2</td><td>B</td><td>2022-03-01</td><td>UK</td><td>null</td><td>2022</td><td>3</td><td>1</td></tr><tr><td>2</td><td>B</td><td>2023-01-02</td><td>UK</td><td>null</td><td>2023</td><td>1</td><td>1</td></tr><tr><td>1</td><td>B</td><td>2023-01-04</td><td>UK</td><td>null</td><td>2023</td><td>1</td><td>1</td></tr><tr><td>1</td><td>B</td><td>2023-03-11</td><td>UK</td><td>null</td><td>2023</td><td>3</td><td>1</td></tr><tr><td>3</td><td>B</td><td>2023-01-16</td><td>UK</td><td>null</td><td>2023</td><td>1</td><td>1</td></tr><tr><td>3</td><td>B</td><td>2023-03-01</td><td>UK</td><td>null</td><td>2023</td><td>3</td><td>1</td></tr><tr><td>3</td><td>C</td><td>2023-01-01</td><td>UK</td><td>null</td><td>2023</td><td>1</td><td>1</td></tr><tr><td>1</td><td>C</td><td>2023-01-01</td><td>USA</td><td>null</td><td>2023</td><td>1</td><td>1</td></tr><tr><td>6</td><td>C</td><td>2023-01-07</td><td>USA</td><td>null</td><td>2023</td><td>1</td><td>1</td></tr><tr><td>3</td><td>D</td><td>2022-03-16</td><td>USA</td><td>null</td><td>2022</td><td>3</td><td>1</td></tr><tr><td>5</td><td>D</td><td>2023-03-01</td><td>USA</td><td>null</td><td>2023</td><td>3</td><td>1</td></tr><tr><td>3</td><td>E</td><td>2023-03-01</td><td>USA</td><td>null</td><td>2023</td><td>3</td><td>1</td></tr><tr><td>4</td><td>E</td><td>2022-03-01</td><td>USA</td><td>null</td><td>2022</td><td>3</td><td>1</td></tr><tr><td>4</td><td>E</td><td>2023-03-07</td><td>USA</td><td>null</td><td>2023</td><td>3</td><td>1</td></tr><tr><td>1</td><td>A</td><td>2023-05-05</td><td>India</td><td>null</td><td>2023</td><td>5</td><td>2</td></tr><tr><td>2</td><td>A</td><td>2022-05-05</td><td>India</td><td>null</td><td>2022</td><td>5</td><td>2</td></tr><tr><td>2</td><td>A</td><td>2023-05-07</td><td>India</td><td>null</td><td>2023</td><td>5</td><td>2</td></tr><tr><td>3</td><td>A</td><td>2023-05-10</td><td>India</td><td>null</td><td>2023</td><td>5</td><td>2</td></tr><tr><td>3</td><td>A</td><td>2022-05-11</td><td>India</td><td>null</td><td>2022</td><td>5</td><td>2</td></tr><tr><td>3</td><td>A</td><td>2023-05-11</td><td>India</td><td>null</td><td>2023</td><td>5</td><td>2</td></tr><tr><td>2</td><td>B</td><td>2022-02-05</td><td>India</td><td>null</td><td>2022</td><td>2</td><td>1</td></tr><tr><td>2</td><td>B</td><td>2023-05-02</td><td>India</td><td>null</td><td>2023</td><td>5</td><td>2</td></tr><tr><td>1</td><td>B</td><td>2023-05-04</td><td>India</td><td>null</td><td>2023</td><td>5</td><td>2</td></tr><tr><td>1</td><td>B</td><td>2023-02-11</td><td>India</td><td>null</td><td>2023</td><td>2</td><td>1</td></tr><tr><td>3</td><td>B</td><td>2023-05-16</td><td>India</td><td>null</td><td>2023</td><td>5</td><td>2</td></tr><tr><td>3</td><td>B</td><td>2022-02-05</td><td>India</td><td>null</td><td>2022</td><td>2</td><td>1</td></tr><tr><td>3</td><td>C</td><td>2023-05-05</td><td>India</td><td>null</td><td>2023</td><td>5</td><td>2</td></tr><tr><td>1</td><td>C</td><td>2023-05-05</td><td>UK</td><td>null</td><td>2023</td><td>5</td><td>2</td></tr><tr><td>6</td><td>C</td><td>2022-05-07</td><td>UK</td><td>null</td><td>2022</td><td>5</td><td>2</td></tr><tr><td>3</td><td>D</td><td>2023-02-16</td><td>UK</td><td>null</td><td>2023</td><td>2</td><td>1</td></tr><tr><td>5</td><td>D</td><td>2022-02-05</td><td>UK</td><td>null</td><td>2022</td><td>2</td><td>1</td></tr><tr><td>3</td><td>E</td><td>2023-02-05</td><td>UK</td><td>null</td><td>2023</td><td>2</td><td>1</td></tr><tr><td>4</td><td>E</td><td>2023-02-05</td><td>UK</td><td>null</td><td>2023</td><td>2</td><td>1</td></tr><tr><td>4</td><td>E</td><td>2023-02-07</td><td>UK</td><td>null</td><td>2023</td><td>2</td><td>1</td></tr><tr><td>2</td><td>A</td><td>2022-05-05</td><td>UK</td><td>null</td><td>2022</td><td>5</td><td>2</td></tr><tr><td>2</td><td>A</td><td>2023-05-07</td><td>UK</td><td>null</td><td>2023</td><td>5</td><td>2</td></tr><tr><td>3</td><td>A</td><td>2023-05-10</td><td>UK</td><td>null</td><td>2023</td><td>5</td><td>2</td></tr><tr><td>3</td><td>A</td><td>2022-05-11</td><td>UK</td><td>null</td><td>2022</td><td>5</td><td>2</td></tr><tr><td>3</td><td>A</td><td>2023-05-11</td><td>UK</td><td>null</td><td>2023</td><td>5</td><td>2</td></tr><tr><td>2</td><td>B</td><td>2022-07-05</td><td>UK</td><td>null</td><td>2022</td><td>7</td><td>3</td></tr><tr><td>2</td><td>B</td><td>2023-05-02</td><td>UK</td><td>null</td><td>2023</td><td>5</td><td>2</td></tr><tr><td>1</td><td>B</td><td>2023-05-04</td><td>UK</td><td>null</td><td>2023</td><td>5</td><td>2</td></tr><tr><td>1</td><td>B</td><td>2023-07-11</td><td>UK</td><td>null</td><td>2023</td><td>7</td><td>3</td></tr><tr><td>3</td><td>B</td><td>2023-05-16</td><td>UK</td><td>null</td><td>2023</td><td>5</td><td>2</td></tr><tr><td>3</td><td>B</td><td>2023-07-05</td><td>UK</td><td>null</td><td>2023</td><td>7</td><td>3</td></tr><tr><td>3</td><td>C</td><td>2023-05-05</td><td>UK</td><td>null</td><td>2023</td><td>5</td><td>2</td></tr><tr><td>1</td><td>C</td><td>2023-05-05</td><td>USA</td><td>null</td><td>2023</td><td>5</td><td>2</td></tr><tr><td>6</td><td>C</td><td>2023-05-07</td><td>USA</td><td>null</td><td>2023</td><td>5</td><td>2</td></tr><tr><td>3</td><td>D</td><td>2022-07-16</td><td>USA</td><td>null</td><td>2022</td><td>7</td><td>3</td></tr><tr><td>5</td><td>D</td><td>2023-07-05</td><td>USA</td><td>null</td><td>2023</td><td>7</td><td>3</td></tr><tr><td>3</td><td>E</td><td>2023-07-05</td><td>USA</td><td>null</td><td>2023</td><td>7</td><td>3</td></tr><tr><td>4</td><td>E</td><td>2022-07-05</td><td>USA</td><td>null</td><td>2022</td><td>7</td><td>3</td></tr><tr><td>4</td><td>E</td><td>2023-07-07</td><td>USA</td><td>null</td><td>2023</td><td>7</td><td>3</td></tr><tr><td>1</td><td>A</td><td>2023-06-06</td><td>India</td><td>null</td><td>2023</td><td>6</td><td>2</td></tr><tr><td>2</td><td>A</td><td>2022-06-06</td><td>India</td><td>null</td><td>2022</td><td>6</td><td>2</td></tr><tr><td>2</td><td>A</td><td>2023-06-11</td><td>India</td><td>null</td><td>2023</td><td>6</td><td>2</td></tr><tr><td>3</td><td>A</td><td>2023-06-10</td><td>India</td><td>null</td><td>2023</td><td>6</td><td>2</td></tr><tr><td>3</td><td>A</td><td>2022-06-11</td><td>India</td><td>null</td><td>2022</td><td>6</td><td>2</td></tr><tr><td>3</td><td>A</td><td>2023-06-11</td><td>India</td><td>null</td><td>2023</td><td>6</td><td>2</td></tr><tr><td>2</td><td>B</td><td>2022-02-06</td><td>India</td><td>null</td><td>2022</td><td>2</td><td>1</td></tr><tr><td>2</td><td>B</td><td>2023-06-02</td><td>India</td><td>null</td><td>2023</td><td>6</td><td>2</td></tr><tr><td>1</td><td>B</td><td>2023-06-04</td><td>India</td><td>null</td><td>2023</td><td>6</td><td>2</td></tr><tr><td>1</td><td>B</td><td>2023-02-11</td><td>India</td><td>null</td><td>2023</td><td>2</td><td>1</td></tr><tr><td>3</td><td>B</td><td>2023-06-16</td><td>India</td><td>null</td><td>2023</td><td>6</td><td>2</td></tr><tr><td>3</td><td>B</td><td>2022-02-06</td><td>India</td><td>null</td><td>2022</td><td>2</td><td>1</td></tr><tr><td>3</td><td>C</td><td>2023-06-06</td><td>India</td><td>null</td><td>2023</td><td>6</td><td>2</td></tr><tr><td>1</td><td>C</td><td>2023-06-06</td><td>UK</td><td>null</td><td>2023</td><td>6</td><td>2</td></tr><tr><td>6</td><td>C</td><td>2022-06-11</td><td>UK</td><td>null</td><td>2022</td><td>6</td><td>2</td></tr><tr><td>3</td><td>D</td><td>2023-02-16</td><td>UK</td><td>null</td><td>2023</td><td>2</td><td>1</td></tr><tr><td>5</td><td>D</td><td>2022-02-06</td><td>UK</td><td>null</td><td>2022</td><td>2</td><td>1</td></tr><tr><td>3</td><td>E</td><td>2023-02-06</td><td>UK</td><td>null</td><td>2023</td><td>2</td><td>1</td></tr><tr><td>4</td><td>E</td><td>2023-02-06</td><td>UK</td><td>null</td><td>2023</td><td>2</td><td>1</td></tr><tr><td>4</td><td>E</td><td>2023-02-11</td><td>UK</td><td>null</td><td>2023</td><td>2</td><td>1</td></tr><tr><td>2</td><td>A</td><td>2022-06-06</td><td>UK</td><td>null</td><td>2022</td><td>6</td><td>2</td></tr><tr><td>2</td><td>A</td><td>2023-06-11</td><td>UK</td><td>null</td><td>2023</td><td>6</td><td>2</td></tr><tr><td>3</td><td>A</td><td>2023-06-10</td><td>UK</td><td>null</td><td>2023</td><td>6</td><td>2</td></tr><tr><td>3</td><td>A</td><td>2022-06-11</td><td>UK</td><td>null</td><td>2022</td><td>6</td><td>2</td></tr><tr><td>3</td><td>A</td><td>2023-06-11</td><td>UK</td><td>null</td><td>2023</td><td>6</td><td>2</td></tr><tr><td>2</td><td>B</td><td>2022-11-06</td><td>UK</td><td>null</td><td>2022</td><td>11</td><td>4</td></tr><tr><td>2</td><td>B</td><td>2023-06-02</td><td>UK</td><td>null</td><td>2023</td><td>6</td><td>2</td></tr><tr><td>1</td><td>B</td><td>2023-06-04</td><td>UK</td><td>null</td><td>2023</td><td>6</td><td>2</td></tr><tr><td>1</td><td>B</td><td>2023-11-11</td><td>UK</td><td>null</td><td>2023</td><td>11</td><td>4</td></tr><tr><td>3</td><td>B</td><td>2023-06-16</td><td>UK</td><td>null</td><td>2023</td><td>6</td><td>2</td></tr><tr><td>3</td><td>B</td><td>2023-11-06</td><td>UK</td><td>null</td><td>2023</td><td>11</td><td>4</td></tr><tr><td>3</td><td>C</td><td>2023-06-06</td><td>UK</td><td>null</td><td>2023</td><td>6</td><td>2</td></tr><tr><td>1</td><td>C</td><td>2023-06-06</td><td>USA</td><td>null</td><td>2023</td><td>6</td><td>2</td></tr><tr><td>6</td><td>C</td><td>2023-06-11</td><td>USA</td><td>null</td><td>2023</td><td>6</td><td>2</td></tr><tr><td>3</td><td>D</td><td>2022-11-16</td><td>USA</td><td>null</td><td>2022</td><td>11</td><td>4</td></tr><tr><td>5</td><td>D</td><td>2023-11-06</td><td>USA</td><td>null</td><td>2023</td><td>11</td><td>4</td></tr><tr><td>3</td><td>E</td><td>2023-11-06</td><td>USA</td><td>null</td><td>2023</td><td>11</td><td>4</td></tr><tr><td>4</td><td>E</td><td>2022-11-06</td><td>USA</td><td>null</td><td>2022</td><td>11</td><td>4</td></tr><tr><td>4</td><td>E</td><td>2023-11-11</td><td>USA</td><td>null</td><td>2023</td><td>11</td><td>4</td></tr></tbody></table></div>"
      ]
     },
     "metadata": {
      "application/vnd.databricks.v1+output": {
       "addedWidgets": {},
       "aggData": [],
       "aggError": "",
       "aggOverflow": false,
       "aggSchema": [],
       "aggSeriesLimitReached": false,
       "aggType": "",
       "arguments": {},
       "columnCustomDisplayInfos": {},
       "data": [
        [
         1,
         "A",
         "2023-01-01",
         "India",
         null,
         2023,
         1,
         1
        ],
        [
         2,
         "A",
         "2022-01-01",
         "India",
         null,
         2022,
         1,
         1
        ],
        [
         2,
         "A",
         "2023-01-07",
         "India",
         null,
         2023,
         1,
         1
        ],
        [
         3,
         "A",
         "2023-01-10",
         "India",
         null,
         2023,
         1,
         1
        ],
        [
         3,
         "A",
         "2022-01-11",
         "India",
         null,
         2022,
         1,
         1
        ],
        [
         3,
         "A",
         "2023-01-11",
         "India",
         null,
         2023,
         1,
         1
        ],
        [
         2,
         "B",
         "2022-02-01",
         "India",
         null,
         2022,
         2,
         1
        ],
        [
         2,
         "B",
         "2023-01-02",
         "India",
         null,
         2023,
         1,
         1
        ],
        [
         1,
         "B",
         "2023-01-04",
         "India",
         null,
         2023,
         1,
         1
        ],
        [
         1,
         "B",
         "2023-02-11",
         "India",
         null,
         2023,
         2,
         1
        ],
        [
         3,
         "B",
         "2023-01-16",
         "India",
         null,
         2023,
         1,
         1
        ],
        [
         3,
         "B",
         "2022-02-01",
         "India",
         null,
         2022,
         2,
         1
        ],
        [
         3,
         "C",
         "2023-01-01",
         "India",
         null,
         2023,
         1,
         1
        ],
        [
         1,
         "C",
         "2023-01-01",
         "UK",
         null,
         2023,
         1,
         1
        ],
        [
         6,
         "C",
         "2022-01-07",
         "UK",
         null,
         2022,
         1,
         1
        ],
        [
         3,
         "D",
         "2023-02-16",
         "UK",
         null,
         2023,
         2,
         1
        ],
        [
         5,
         "D",
         "2022-02-01",
         "UK",
         null,
         2022,
         2,
         1
        ],
        [
         3,
         "E",
         "2023-02-01",
         "UK",
         null,
         2023,
         2,
         1
        ],
        [
         4,
         "E",
         "2023-02-01",
         "UK",
         null,
         2023,
         2,
         1
        ],
        [
         4,
         "E",
         "2023-02-07",
         "UK",
         null,
         2023,
         2,
         1
        ],
        [
         2,
         "A",
         "2022-01-01",
         "UK",
         null,
         2022,
         1,
         1
        ],
        [
         2,
         "A",
         "2023-01-07",
         "UK",
         null,
         2023,
         1,
         1
        ],
        [
         3,
         "A",
         "2023-01-10",
         "UK",
         null,
         2023,
         1,
         1
        ],
        [
         3,
         "A",
         "2022-01-11",
         "UK",
         null,
         2022,
         1,
         1
        ],
        [
         3,
         "A",
         "2023-01-11",
         "UK",
         null,
         2023,
         1,
         1
        ],
        [
         2,
         "B",
         "2022-03-01",
         "UK",
         null,
         2022,
         3,
         1
        ],
        [
         2,
         "B",
         "2023-01-02",
         "UK",
         null,
         2023,
         1,
         1
        ],
        [
         1,
         "B",
         "2023-01-04",
         "UK",
         null,
         2023,
         1,
         1
        ],
        [
         1,
         "B",
         "2023-03-11",
         "UK",
         null,
         2023,
         3,
         1
        ],
        [
         3,
         "B",
         "2023-01-16",
         "UK",
         null,
         2023,
         1,
         1
        ],
        [
         3,
         "B",
         "2023-03-01",
         "UK",
         null,
         2023,
         3,
         1
        ],
        [
         3,
         "C",
         "2023-01-01",
         "UK",
         null,
         2023,
         1,
         1
        ],
        [
         1,
         "C",
         "2023-01-01",
         "USA",
         null,
         2023,
         1,
         1
        ],
        [
         6,
         "C",
         "2023-01-07",
         "USA",
         null,
         2023,
         1,
         1
        ],
        [
         3,
         "D",
         "2022-03-16",
         "USA",
         null,
         2022,
         3,
         1
        ],
        [
         5,
         "D",
         "2023-03-01",
         "USA",
         null,
         2023,
         3,
         1
        ],
        [
         3,
         "E",
         "2023-03-01",
         "USA",
         null,
         2023,
         3,
         1
        ],
        [
         4,
         "E",
         "2022-03-01",
         "USA",
         null,
         2022,
         3,
         1
        ],
        [
         4,
         "E",
         "2023-03-07",
         "USA",
         null,
         2023,
         3,
         1
        ],
        [
         1,
         "A",
         "2023-05-05",
         "India",
         null,
         2023,
         5,
         2
        ],
        [
         2,
         "A",
         "2022-05-05",
         "India",
         null,
         2022,
         5,
         2
        ],
        [
         2,
         "A",
         "2023-05-07",
         "India",
         null,
         2023,
         5,
         2
        ],
        [
         3,
         "A",
         "2023-05-10",
         "India",
         null,
         2023,
         5,
         2
        ],
        [
         3,
         "A",
         "2022-05-11",
         "India",
         null,
         2022,
         5,
         2
        ],
        [
         3,
         "A",
         "2023-05-11",
         "India",
         null,
         2023,
         5,
         2
        ],
        [
         2,
         "B",
         "2022-02-05",
         "India",
         null,
         2022,
         2,
         1
        ],
        [
         2,
         "B",
         "2023-05-02",
         "India",
         null,
         2023,
         5,
         2
        ],
        [
         1,
         "B",
         "2023-05-04",
         "India",
         null,
         2023,
         5,
         2
        ],
        [
         1,
         "B",
         "2023-02-11",
         "India",
         null,
         2023,
         2,
         1
        ],
        [
         3,
         "B",
         "2023-05-16",
         "India",
         null,
         2023,
         5,
         2
        ],
        [
         3,
         "B",
         "2022-02-05",
         "India",
         null,
         2022,
         2,
         1
        ],
        [
         3,
         "C",
         "2023-05-05",
         "India",
         null,
         2023,
         5,
         2
        ],
        [
         1,
         "C",
         "2023-05-05",
         "UK",
         null,
         2023,
         5,
         2
        ],
        [
         6,
         "C",
         "2022-05-07",
         "UK",
         null,
         2022,
         5,
         2
        ],
        [
         3,
         "D",
         "2023-02-16",
         "UK",
         null,
         2023,
         2,
         1
        ],
        [
         5,
         "D",
         "2022-02-05",
         "UK",
         null,
         2022,
         2,
         1
        ],
        [
         3,
         "E",
         "2023-02-05",
         "UK",
         null,
         2023,
         2,
         1
        ],
        [
         4,
         "E",
         "2023-02-05",
         "UK",
         null,
         2023,
         2,
         1
        ],
        [
         4,
         "E",
         "2023-02-07",
         "UK",
         null,
         2023,
         2,
         1
        ],
        [
         2,
         "A",
         "2022-05-05",
         "UK",
         null,
         2022,
         5,
         2
        ],
        [
         2,
         "A",
         "2023-05-07",
         "UK",
         null,
         2023,
         5,
         2
        ],
        [
         3,
         "A",
         "2023-05-10",
         "UK",
         null,
         2023,
         5,
         2
        ],
        [
         3,
         "A",
         "2022-05-11",
         "UK",
         null,
         2022,
         5,
         2
        ],
        [
         3,
         "A",
         "2023-05-11",
         "UK",
         null,
         2023,
         5,
         2
        ],
        [
         2,
         "B",
         "2022-07-05",
         "UK",
         null,
         2022,
         7,
         3
        ],
        [
         2,
         "B",
         "2023-05-02",
         "UK",
         null,
         2023,
         5,
         2
        ],
        [
         1,
         "B",
         "2023-05-04",
         "UK",
         null,
         2023,
         5,
         2
        ],
        [
         1,
         "B",
         "2023-07-11",
         "UK",
         null,
         2023,
         7,
         3
        ],
        [
         3,
         "B",
         "2023-05-16",
         "UK",
         null,
         2023,
         5,
         2
        ],
        [
         3,
         "B",
         "2023-07-05",
         "UK",
         null,
         2023,
         7,
         3
        ],
        [
         3,
         "C",
         "2023-05-05",
         "UK",
         null,
         2023,
         5,
         2
        ],
        [
         1,
         "C",
         "2023-05-05",
         "USA",
         null,
         2023,
         5,
         2
        ],
        [
         6,
         "C",
         "2023-05-07",
         "USA",
         null,
         2023,
         5,
         2
        ],
        [
         3,
         "D",
         "2022-07-16",
         "USA",
         null,
         2022,
         7,
         3
        ],
        [
         5,
         "D",
         "2023-07-05",
         "USA",
         null,
         2023,
         7,
         3
        ],
        [
         3,
         "E",
         "2023-07-05",
         "USA",
         null,
         2023,
         7,
         3
        ],
        [
         4,
         "E",
         "2022-07-05",
         "USA",
         null,
         2022,
         7,
         3
        ],
        [
         4,
         "E",
         "2023-07-07",
         "USA",
         null,
         2023,
         7,
         3
        ],
        [
         1,
         "A",
         "2023-06-06",
         "India",
         null,
         2023,
         6,
         2
        ],
        [
         2,
         "A",
         "2022-06-06",
         "India",
         null,
         2022,
         6,
         2
        ],
        [
         2,
         "A",
         "2023-06-11",
         "India",
         null,
         2023,
         6,
         2
        ],
        [
         3,
         "A",
         "2023-06-10",
         "India",
         null,
         2023,
         6,
         2
        ],
        [
         3,
         "A",
         "2022-06-11",
         "India",
         null,
         2022,
         6,
         2
        ],
        [
         3,
         "A",
         "2023-06-11",
         "India",
         null,
         2023,
         6,
         2
        ],
        [
         2,
         "B",
         "2022-02-06",
         "India",
         null,
         2022,
         2,
         1
        ],
        [
         2,
         "B",
         "2023-06-02",
         "India",
         null,
         2023,
         6,
         2
        ],
        [
         1,
         "B",
         "2023-06-04",
         "India",
         null,
         2023,
         6,
         2
        ],
        [
         1,
         "B",
         "2023-02-11",
         "India",
         null,
         2023,
         2,
         1
        ],
        [
         3,
         "B",
         "2023-06-16",
         "India",
         null,
         2023,
         6,
         2
        ],
        [
         3,
         "B",
         "2022-02-06",
         "India",
         null,
         2022,
         2,
         1
        ],
        [
         3,
         "C",
         "2023-06-06",
         "India",
         null,
         2023,
         6,
         2
        ],
        [
         1,
         "C",
         "2023-06-06",
         "UK",
         null,
         2023,
         6,
         2
        ],
        [
         6,
         "C",
         "2022-06-11",
         "UK",
         null,
         2022,
         6,
         2
        ],
        [
         3,
         "D",
         "2023-02-16",
         "UK",
         null,
         2023,
         2,
         1
        ],
        [
         5,
         "D",
         "2022-02-06",
         "UK",
         null,
         2022,
         2,
         1
        ],
        [
         3,
         "E",
         "2023-02-06",
         "UK",
         null,
         2023,
         2,
         1
        ],
        [
         4,
         "E",
         "2023-02-06",
         "UK",
         null,
         2023,
         2,
         1
        ],
        [
         4,
         "E",
         "2023-02-11",
         "UK",
         null,
         2023,
         2,
         1
        ],
        [
         2,
         "A",
         "2022-06-06",
         "UK",
         null,
         2022,
         6,
         2
        ],
        [
         2,
         "A",
         "2023-06-11",
         "UK",
         null,
         2023,
         6,
         2
        ],
        [
         3,
         "A",
         "2023-06-10",
         "UK",
         null,
         2023,
         6,
         2
        ],
        [
         3,
         "A",
         "2022-06-11",
         "UK",
         null,
         2022,
         6,
         2
        ],
        [
         3,
         "A",
         "2023-06-11",
         "UK",
         null,
         2023,
         6,
         2
        ],
        [
         2,
         "B",
         "2022-11-06",
         "UK",
         null,
         2022,
         11,
         4
        ],
        [
         2,
         "B",
         "2023-06-02",
         "UK",
         null,
         2023,
         6,
         2
        ],
        [
         1,
         "B",
         "2023-06-04",
         "UK",
         null,
         2023,
         6,
         2
        ],
        [
         1,
         "B",
         "2023-11-11",
         "UK",
         null,
         2023,
         11,
         4
        ],
        [
         3,
         "B",
         "2023-06-16",
         "UK",
         null,
         2023,
         6,
         2
        ],
        [
         3,
         "B",
         "2023-11-06",
         "UK",
         null,
         2023,
         11,
         4
        ],
        [
         3,
         "C",
         "2023-06-06",
         "UK",
         null,
         2023,
         6,
         2
        ],
        [
         1,
         "C",
         "2023-06-06",
         "USA",
         null,
         2023,
         6,
         2
        ],
        [
         6,
         "C",
         "2023-06-11",
         "USA",
         null,
         2023,
         6,
         2
        ],
        [
         3,
         "D",
         "2022-11-16",
         "USA",
         null,
         2022,
         11,
         4
        ],
        [
         5,
         "D",
         "2023-11-06",
         "USA",
         null,
         2023,
         11,
         4
        ],
        [
         3,
         "E",
         "2023-11-06",
         "USA",
         null,
         2023,
         11,
         4
        ],
        [
         4,
         "E",
         "2022-11-06",
         "USA",
         null,
         2022,
         11,
         4
        ],
        [
         4,
         "E",
         "2023-11-11",
         "USA",
         null,
         2023,
         11,
         4
        ]
       ],
       "datasetInfos": [],
       "dbfsResultPath": null,
       "isJsonSchema": true,
       "metadata": {},
       "overflow": false,
       "plotOptions": {
        "customPlotOptions": {},
        "displayType": "table",
        "pivotAggregation": null,
        "pivotColumns": null,
        "xColumns": null,
        "yColumns": null
       },
       "removedWidgets": [],
       "schema": [
        {
         "metadata": "{}",
         "name": "product_id",
         "type": "\"integer\""
        },
        {
         "metadata": "{}",
         "name": "customer_id",
         "type": "\"string\""
        },
        {
         "metadata": "{}",
         "name": "order_date",
         "type": "\"date\""
        },
        {
         "metadata": "{}",
         "name": "Location",
         "type": "\"string\""
        },
        {
         "metadata": "{}",
         "name": "source_order",
         "type": "\"integer\""
        },
        {
         "metadata": "{}",
         "name": "order_year",
         "type": "\"integer\""
        },
        {
         "metadata": "{}",
         "name": "order_month",
         "type": "\"integer\""
        },
        {
         "metadata": "{}",
         "name": "order_quarter",
         "type": "\"integer\""
        }
       ],
       "type": "table"
      }
     },
     "output_type": "display_data"
    }
   ],
   "source": [
    "display(sales_df)\n"
   ]
  },
  {
   "cell_type": "code",
   "execution_count": 0,
   "metadata": {
    "application/vnd.databricks.v1+cell": {
     "cellMetadata": {
      "byteLimit": 2048000,
      "rowLimit": 10000
     },
     "inputWidgets": {},
     "nuid": "0ddf40f4-086a-41bc-9782-b3b7436b356a",
     "showTitle": false,
     "title": ""
    }
   },
   "outputs": [
    {
     "output_type": "stream",
     "name": "stdout",
     "output_type": "stream",
     "text": [
      "+----------+-----------+----------+--------+----------+-----------+-------------+\n|product_id|customer_id|order_date|Location|order_year|order_month|order_quarter|\n+----------+-----------+----------+--------+----------+-----------+-------------+\n|         1|          A|2023-01-01|   India|      2023|          1|            1|\n|         2|          A|2022-01-01|   India|      2022|          1|            1|\n|         2|          A|2023-01-07|   India|      2023|          1|            1|\n|         3|          A|2023-01-10|   India|      2023|          1|            1|\n|         3|          A|2022-01-11|   India|      2022|          1|            1|\n|         3|          A|2023-01-11|   India|      2023|          1|            1|\n|         2|          B|2022-02-01|   India|      2022|          2|            1|\n|         2|          B|2023-01-02|   India|      2023|          1|            1|\n|         1|          B|2023-01-04|   India|      2023|          1|            1|\n|         1|          B|2023-02-11|   India|      2023|          2|            1|\n|         3|          B|2023-01-16|   India|      2023|          1|            1|\n|         3|          B|2022-02-01|   India|      2022|          2|            1|\n|         3|          C|2023-01-01|   India|      2023|          1|            1|\n|         1|          C|2023-01-01|      UK|      2023|          1|            1|\n|         6|          C|2022-01-07|      UK|      2022|          1|            1|\n|         3|          D|2023-02-16|      UK|      2023|          2|            1|\n|         5|          D|2022-02-01|      UK|      2022|          2|            1|\n|         3|          E|2023-02-01|      UK|      2023|          2|            1|\n|         4|          E|2023-02-01|      UK|      2023|          2|            1|\n|         4|          E|2023-02-07|      UK|      2023|          2|            1|\n+----------+-----------+----------+--------+----------+-----------+-------------+\nonly showing top 20 rows\n\n"
     ]
    }
   ],
   "source": [
    "sales_df=sales_df.drop('source_order')\n",
    "sales_df.show()"
   ]
  },
  {
   "cell_type": "code",
   "execution_count": 0,
   "metadata": {
    "application/vnd.databricks.v1+cell": {
     "cellMetadata": {
      "byteLimit": 2048000,
      "rowLimit": 10000
     },
     "inputWidgets": {},
     "nuid": "67c04bae-1f24-4718-ae6c-873b6191d888",
     "showTitle": false,
     "title": ""
    }
   },
   "outputs": [],
   "source": []
  },
  {
   "cell_type": "code",
   "execution_count": 0,
   "metadata": {
    "application/vnd.databricks.v1+cell": {
     "cellMetadata": {
      "byteLimit": 2048000,
      "rowLimit": 10000
     },
     "inputWidgets": {},
     "nuid": "fa6205d7-0bf0-4410-9e6b-46d8d90f6a36",
     "showTitle": false,
     "title": ""
    }
   },
   "outputs": [],
   "source": [
    "##menu orders details\n",
    "from pyspark.sql.types import StructType,IntegerType,DateType \n",
    "schema=StructType([\n",
    "    StructField(\"product_id\",IntegerType(),True),\n",
    "    StructField(\"product_name\",StringType(),True),\n",
    "    StructField(\"price\",StringType(),True),\n",
    "    \n",
    "])\n"
   ]
  },
  {
   "cell_type": "code",
   "execution_count": 0,
   "metadata": {
    "application/vnd.databricks.v1+cell": {
     "cellMetadata": {
      "byteLimit": 2048000,
      "rowLimit": 10000
     },
     "inputWidgets": {},
     "nuid": "4433c193-a18d-4a9d-91d1-a59f07ca41a5",
     "showTitle": false,
     "title": ""
    }
   },
   "outputs": [
    {
     "output_type": "stream",
     "name": "stdout",
     "output_type": "stream",
     "text": [
      "+----------+------------+-----+\n|product_id|product_name|price|\n+----------+------------+-----+\n|         1|       PIZZA|  100|\n|         2|     Chowmin|  150|\n|         3|    sandwich|  120|\n|         4|        Dosa|  110|\n|         5|     Biryani|   80|\n|         6|       Pasta|  180|\n+----------+------------+-----+\n\n"
     ]
    }
   ],
   "source": [
    "df_menu=spark.read.format(\"csv\").option(\"inferschema\",\"True\").schema(schema).load(\"/FileStore/tables/menu_csv-1.txt\")\n",
    "df_menu.show()"
   ]
  },
  {
   "cell_type": "code",
   "execution_count": 0,
   "metadata": {
    "application/vnd.databricks.v1+cell": {
     "cellMetadata": {
      "byteLimit": 2048000,
      "rowLimit": 10000
     },
     "inputWidgets": {},
     "nuid": "b87c2a48-f876-4aeb-a3c2-2924d6085331",
     "showTitle": false,
     "title": ""
    }
   },
   "outputs": [],
   "source": [
    "##total amount spend by each customer\n",
    "df=sales_df.join(df_menu,on=\"product_id\",how=\"inner\")"
   ]
  },
  {
   "cell_type": "code",
   "execution_count": 0,
   "metadata": {
    "application/vnd.databricks.v1+cell": {
     "cellMetadata": {
      "byteLimit": 2048000,
      "rowLimit": 10000
     },
     "inputWidgets": {},
     "nuid": "fe8e9a3d-c202-4bf3-a602-e007cebfd4a0",
     "showTitle": false,
     "title": ""
    }
   },
   "outputs": [
    {
     "output_type": "stream",
     "name": "stdout",
     "output_type": "stream",
     "text": [
      "+-----------+----------+\n|customer_id|sum(price)|\n+-----------+----------+\n|          E|    2040.0|\n|          B|    4440.0|\n|          D|    1200.0|\n|          C|    2400.0|\n|          A|    4260.0|\n+-----------+----------+\n\n"
     ]
    },
    {
     "output_type": "display_data",
     "data": {
      "text/html": [
       "<style scoped>\n",
       "  .table-result-container {\n",
       "    max-height: 300px;\n",
       "    overflow: auto;\n",
       "  }\n",
       "  table, th, td {\n",
       "    border: 1px solid black;\n",
       "    border-collapse: collapse;\n",
       "  }\n",
       "  th, td {\n",
       "    padding: 5px;\n",
       "  }\n",
       "  th {\n",
       "    text-align: left;\n",
       "  }\n",
       "</style><div class='table-result-container'><table class='table-result'><thead style='background-color: white'><tr><th>product_id</th><th>customer_id</th><th>order_date</th><th>Location</th><th>order_year</th><th>order_month</th><th>order_quarter</th><th>product_name</th><th>price</th></tr></thead><tbody><tr><td>1</td><td>A</td><td>2023-01-01</td><td>India</td><td>2023</td><td>1</td><td>1</td><td> PIZZA</td><td> 100</td></tr><tr><td>2</td><td>A</td><td>2022-01-01</td><td>India</td><td>2022</td><td>1</td><td>1</td><td> Chowmin</td><td> 150</td></tr><tr><td>2</td><td>A</td><td>2023-01-07</td><td>India</td><td>2023</td><td>1</td><td>1</td><td> Chowmin</td><td> 150</td></tr><tr><td>3</td><td>A</td><td>2023-01-10</td><td>India</td><td>2023</td><td>1</td><td>1</td><td> sandwich</td><td> 120</td></tr><tr><td>3</td><td>A</td><td>2022-01-11</td><td>India</td><td>2022</td><td>1</td><td>1</td><td> sandwich</td><td> 120</td></tr><tr><td>3</td><td>A</td><td>2023-01-11</td><td>India</td><td>2023</td><td>1</td><td>1</td><td> sandwich</td><td> 120</td></tr><tr><td>2</td><td>B</td><td>2022-02-01</td><td>India</td><td>2022</td><td>2</td><td>1</td><td> Chowmin</td><td> 150</td></tr><tr><td>2</td><td>B</td><td>2023-01-02</td><td>India</td><td>2023</td><td>1</td><td>1</td><td> Chowmin</td><td> 150</td></tr><tr><td>1</td><td>B</td><td>2023-01-04</td><td>India</td><td>2023</td><td>1</td><td>1</td><td> PIZZA</td><td> 100</td></tr><tr><td>1</td><td>B</td><td>2023-02-11</td><td>India</td><td>2023</td><td>2</td><td>1</td><td> PIZZA</td><td> 100</td></tr><tr><td>3</td><td>B</td><td>2023-01-16</td><td>India</td><td>2023</td><td>1</td><td>1</td><td> sandwich</td><td> 120</td></tr><tr><td>3</td><td>B</td><td>2022-02-01</td><td>India</td><td>2022</td><td>2</td><td>1</td><td> sandwich</td><td> 120</td></tr><tr><td>3</td><td>C</td><td>2023-01-01</td><td>India</td><td>2023</td><td>1</td><td>1</td><td> sandwich</td><td> 120</td></tr><tr><td>1</td><td>C</td><td>2023-01-01</td><td>UK</td><td>2023</td><td>1</td><td>1</td><td> PIZZA</td><td> 100</td></tr><tr><td>6</td><td>C</td><td>2022-01-07</td><td>UK</td><td>2022</td><td>1</td><td>1</td><td> Pasta</td><td> 180</td></tr><tr><td>3</td><td>D</td><td>2023-02-16</td><td>UK</td><td>2023</td><td>2</td><td>1</td><td> sandwich</td><td> 120</td></tr><tr><td>5</td><td>D</td><td>2022-02-01</td><td>UK</td><td>2022</td><td>2</td><td>1</td><td> Biryani</td><td> 80</td></tr><tr><td>3</td><td>E</td><td>2023-02-01</td><td>UK</td><td>2023</td><td>2</td><td>1</td><td> sandwich</td><td> 120</td></tr><tr><td>4</td><td>E</td><td>2023-02-01</td><td>UK</td><td>2023</td><td>2</td><td>1</td><td> Dosa</td><td> 110</td></tr><tr><td>4</td><td>E</td><td>2023-02-07</td><td>UK</td><td>2023</td><td>2</td><td>1</td><td> Dosa</td><td> 110</td></tr><tr><td>2</td><td>A</td><td>2022-01-01</td><td>UK</td><td>2022</td><td>1</td><td>1</td><td> Chowmin</td><td> 150</td></tr><tr><td>2</td><td>A</td><td>2023-01-07</td><td>UK</td><td>2023</td><td>1</td><td>1</td><td> Chowmin</td><td> 150</td></tr><tr><td>3</td><td>A</td><td>2023-01-10</td><td>UK</td><td>2023</td><td>1</td><td>1</td><td> sandwich</td><td> 120</td></tr><tr><td>3</td><td>A</td><td>2022-01-11</td><td>UK</td><td>2022</td><td>1</td><td>1</td><td> sandwich</td><td> 120</td></tr><tr><td>3</td><td>A</td><td>2023-01-11</td><td>UK</td><td>2023</td><td>1</td><td>1</td><td> sandwich</td><td> 120</td></tr><tr><td>2</td><td>B</td><td>2022-03-01</td><td>UK</td><td>2022</td><td>3</td><td>1</td><td> Chowmin</td><td> 150</td></tr><tr><td>2</td><td>B</td><td>2023-01-02</td><td>UK</td><td>2023</td><td>1</td><td>1</td><td> Chowmin</td><td> 150</td></tr><tr><td>1</td><td>B</td><td>2023-01-04</td><td>UK</td><td>2023</td><td>1</td><td>1</td><td> PIZZA</td><td> 100</td></tr><tr><td>1</td><td>B</td><td>2023-03-11</td><td>UK</td><td>2023</td><td>3</td><td>1</td><td> PIZZA</td><td> 100</td></tr><tr><td>3</td><td>B</td><td>2023-01-16</td><td>UK</td><td>2023</td><td>1</td><td>1</td><td> sandwich</td><td> 120</td></tr><tr><td>3</td><td>B</td><td>2023-03-01</td><td>UK</td><td>2023</td><td>3</td><td>1</td><td> sandwich</td><td> 120</td></tr><tr><td>3</td><td>C</td><td>2023-01-01</td><td>UK</td><td>2023</td><td>1</td><td>1</td><td> sandwich</td><td> 120</td></tr><tr><td>1</td><td>C</td><td>2023-01-01</td><td>USA</td><td>2023</td><td>1</td><td>1</td><td> PIZZA</td><td> 100</td></tr><tr><td>6</td><td>C</td><td>2023-01-07</td><td>USA</td><td>2023</td><td>1</td><td>1</td><td> Pasta</td><td> 180</td></tr><tr><td>3</td><td>D</td><td>2022-03-16</td><td>USA</td><td>2022</td><td>3</td><td>1</td><td> sandwich</td><td> 120</td></tr><tr><td>5</td><td>D</td><td>2023-03-01</td><td>USA</td><td>2023</td><td>3</td><td>1</td><td> Biryani</td><td> 80</td></tr><tr><td>3</td><td>E</td><td>2023-03-01</td><td>USA</td><td>2023</td><td>3</td><td>1</td><td> sandwich</td><td> 120</td></tr><tr><td>4</td><td>E</td><td>2022-03-01</td><td>USA</td><td>2022</td><td>3</td><td>1</td><td> Dosa</td><td> 110</td></tr><tr><td>4</td><td>E</td><td>2023-03-07</td><td>USA</td><td>2023</td><td>3</td><td>1</td><td> Dosa</td><td> 110</td></tr><tr><td>1</td><td>A</td><td>2023-05-05</td><td>India</td><td>2023</td><td>5</td><td>2</td><td> PIZZA</td><td> 100</td></tr><tr><td>2</td><td>A</td><td>2022-05-05</td><td>India</td><td>2022</td><td>5</td><td>2</td><td> Chowmin</td><td> 150</td></tr><tr><td>2</td><td>A</td><td>2023-05-07</td><td>India</td><td>2023</td><td>5</td><td>2</td><td> Chowmin</td><td> 150</td></tr><tr><td>3</td><td>A</td><td>2023-05-10</td><td>India</td><td>2023</td><td>5</td><td>2</td><td> sandwich</td><td> 120</td></tr><tr><td>3</td><td>A</td><td>2022-05-11</td><td>India</td><td>2022</td><td>5</td><td>2</td><td> sandwich</td><td> 120</td></tr><tr><td>3</td><td>A</td><td>2023-05-11</td><td>India</td><td>2023</td><td>5</td><td>2</td><td> sandwich</td><td> 120</td></tr><tr><td>2</td><td>B</td><td>2022-02-05</td><td>India</td><td>2022</td><td>2</td><td>1</td><td> Chowmin</td><td> 150</td></tr><tr><td>2</td><td>B</td><td>2023-05-02</td><td>India</td><td>2023</td><td>5</td><td>2</td><td> Chowmin</td><td> 150</td></tr><tr><td>1</td><td>B</td><td>2023-05-04</td><td>India</td><td>2023</td><td>5</td><td>2</td><td> PIZZA</td><td> 100</td></tr><tr><td>1</td><td>B</td><td>2023-02-11</td><td>India</td><td>2023</td><td>2</td><td>1</td><td> PIZZA</td><td> 100</td></tr><tr><td>3</td><td>B</td><td>2023-05-16</td><td>India</td><td>2023</td><td>5</td><td>2</td><td> sandwich</td><td> 120</td></tr><tr><td>3</td><td>B</td><td>2022-02-05</td><td>India</td><td>2022</td><td>2</td><td>1</td><td> sandwich</td><td> 120</td></tr><tr><td>3</td><td>C</td><td>2023-05-05</td><td>India</td><td>2023</td><td>5</td><td>2</td><td> sandwich</td><td> 120</td></tr><tr><td>1</td><td>C</td><td>2023-05-05</td><td>UK</td><td>2023</td><td>5</td><td>2</td><td> PIZZA</td><td> 100</td></tr><tr><td>6</td><td>C</td><td>2022-05-07</td><td>UK</td><td>2022</td><td>5</td><td>2</td><td> Pasta</td><td> 180</td></tr><tr><td>3</td><td>D</td><td>2023-02-16</td><td>UK</td><td>2023</td><td>2</td><td>1</td><td> sandwich</td><td> 120</td></tr><tr><td>5</td><td>D</td><td>2022-02-05</td><td>UK</td><td>2022</td><td>2</td><td>1</td><td> Biryani</td><td> 80</td></tr><tr><td>3</td><td>E</td><td>2023-02-05</td><td>UK</td><td>2023</td><td>2</td><td>1</td><td> sandwich</td><td> 120</td></tr><tr><td>4</td><td>E</td><td>2023-02-05</td><td>UK</td><td>2023</td><td>2</td><td>1</td><td> Dosa</td><td> 110</td></tr><tr><td>4</td><td>E</td><td>2023-02-07</td><td>UK</td><td>2023</td><td>2</td><td>1</td><td> Dosa</td><td> 110</td></tr><tr><td>2</td><td>A</td><td>2022-05-05</td><td>UK</td><td>2022</td><td>5</td><td>2</td><td> Chowmin</td><td> 150</td></tr><tr><td>2</td><td>A</td><td>2023-05-07</td><td>UK</td><td>2023</td><td>5</td><td>2</td><td> Chowmin</td><td> 150</td></tr><tr><td>3</td><td>A</td><td>2023-05-10</td><td>UK</td><td>2023</td><td>5</td><td>2</td><td> sandwich</td><td> 120</td></tr><tr><td>3</td><td>A</td><td>2022-05-11</td><td>UK</td><td>2022</td><td>5</td><td>2</td><td> sandwich</td><td> 120</td></tr><tr><td>3</td><td>A</td><td>2023-05-11</td><td>UK</td><td>2023</td><td>5</td><td>2</td><td> sandwich</td><td> 120</td></tr><tr><td>2</td><td>B</td><td>2022-07-05</td><td>UK</td><td>2022</td><td>7</td><td>3</td><td> Chowmin</td><td> 150</td></tr><tr><td>2</td><td>B</td><td>2023-05-02</td><td>UK</td><td>2023</td><td>5</td><td>2</td><td> Chowmin</td><td> 150</td></tr><tr><td>1</td><td>B</td><td>2023-05-04</td><td>UK</td><td>2023</td><td>5</td><td>2</td><td> PIZZA</td><td> 100</td></tr><tr><td>1</td><td>B</td><td>2023-07-11</td><td>UK</td><td>2023</td><td>7</td><td>3</td><td> PIZZA</td><td> 100</td></tr><tr><td>3</td><td>B</td><td>2023-05-16</td><td>UK</td><td>2023</td><td>5</td><td>2</td><td> sandwich</td><td> 120</td></tr><tr><td>3</td><td>B</td><td>2023-07-05</td><td>UK</td><td>2023</td><td>7</td><td>3</td><td> sandwich</td><td> 120</td></tr><tr><td>3</td><td>C</td><td>2023-05-05</td><td>UK</td><td>2023</td><td>5</td><td>2</td><td> sandwich</td><td> 120</td></tr><tr><td>1</td><td>C</td><td>2023-05-05</td><td>USA</td><td>2023</td><td>5</td><td>2</td><td> PIZZA</td><td> 100</td></tr><tr><td>6</td><td>C</td><td>2023-05-07</td><td>USA</td><td>2023</td><td>5</td><td>2</td><td> Pasta</td><td> 180</td></tr><tr><td>3</td><td>D</td><td>2022-07-16</td><td>USA</td><td>2022</td><td>7</td><td>3</td><td> sandwich</td><td> 120</td></tr><tr><td>5</td><td>D</td><td>2023-07-05</td><td>USA</td><td>2023</td><td>7</td><td>3</td><td> Biryani</td><td> 80</td></tr><tr><td>3</td><td>E</td><td>2023-07-05</td><td>USA</td><td>2023</td><td>7</td><td>3</td><td> sandwich</td><td> 120</td></tr><tr><td>4</td><td>E</td><td>2022-07-05</td><td>USA</td><td>2022</td><td>7</td><td>3</td><td> Dosa</td><td> 110</td></tr><tr><td>4</td><td>E</td><td>2023-07-07</td><td>USA</td><td>2023</td><td>7</td><td>3</td><td> Dosa</td><td> 110</td></tr><tr><td>1</td><td>A</td><td>2023-06-06</td><td>India</td><td>2023</td><td>6</td><td>2</td><td> PIZZA</td><td> 100</td></tr><tr><td>2</td><td>A</td><td>2022-06-06</td><td>India</td><td>2022</td><td>6</td><td>2</td><td> Chowmin</td><td> 150</td></tr><tr><td>2</td><td>A</td><td>2023-06-11</td><td>India</td><td>2023</td><td>6</td><td>2</td><td> Chowmin</td><td> 150</td></tr><tr><td>3</td><td>A</td><td>2023-06-10</td><td>India</td><td>2023</td><td>6</td><td>2</td><td> sandwich</td><td> 120</td></tr><tr><td>3</td><td>A</td><td>2022-06-11</td><td>India</td><td>2022</td><td>6</td><td>2</td><td> sandwich</td><td> 120</td></tr><tr><td>3</td><td>A</td><td>2023-06-11</td><td>India</td><td>2023</td><td>6</td><td>2</td><td> sandwich</td><td> 120</td></tr><tr><td>2</td><td>B</td><td>2022-02-06</td><td>India</td><td>2022</td><td>2</td><td>1</td><td> Chowmin</td><td> 150</td></tr><tr><td>2</td><td>B</td><td>2023-06-02</td><td>India</td><td>2023</td><td>6</td><td>2</td><td> Chowmin</td><td> 150</td></tr><tr><td>1</td><td>B</td><td>2023-06-04</td><td>India</td><td>2023</td><td>6</td><td>2</td><td> PIZZA</td><td> 100</td></tr><tr><td>1</td><td>B</td><td>2023-02-11</td><td>India</td><td>2023</td><td>2</td><td>1</td><td> PIZZA</td><td> 100</td></tr><tr><td>3</td><td>B</td><td>2023-06-16</td><td>India</td><td>2023</td><td>6</td><td>2</td><td> sandwich</td><td> 120</td></tr><tr><td>3</td><td>B</td><td>2022-02-06</td><td>India</td><td>2022</td><td>2</td><td>1</td><td> sandwich</td><td> 120</td></tr><tr><td>3</td><td>C</td><td>2023-06-06</td><td>India</td><td>2023</td><td>6</td><td>2</td><td> sandwich</td><td> 120</td></tr><tr><td>1</td><td>C</td><td>2023-06-06</td><td>UK</td><td>2023</td><td>6</td><td>2</td><td> PIZZA</td><td> 100</td></tr><tr><td>6</td><td>C</td><td>2022-06-11</td><td>UK</td><td>2022</td><td>6</td><td>2</td><td> Pasta</td><td> 180</td></tr><tr><td>3</td><td>D</td><td>2023-02-16</td><td>UK</td><td>2023</td><td>2</td><td>1</td><td> sandwich</td><td> 120</td></tr><tr><td>5</td><td>D</td><td>2022-02-06</td><td>UK</td><td>2022</td><td>2</td><td>1</td><td> Biryani</td><td> 80</td></tr><tr><td>3</td><td>E</td><td>2023-02-06</td><td>UK</td><td>2023</td><td>2</td><td>1</td><td> sandwich</td><td> 120</td></tr><tr><td>4</td><td>E</td><td>2023-02-06</td><td>UK</td><td>2023</td><td>2</td><td>1</td><td> Dosa</td><td> 110</td></tr><tr><td>4</td><td>E</td><td>2023-02-11</td><td>UK</td><td>2023</td><td>2</td><td>1</td><td> Dosa</td><td> 110</td></tr><tr><td>2</td><td>A</td><td>2022-06-06</td><td>UK</td><td>2022</td><td>6</td><td>2</td><td> Chowmin</td><td> 150</td></tr><tr><td>2</td><td>A</td><td>2023-06-11</td><td>UK</td><td>2023</td><td>6</td><td>2</td><td> Chowmin</td><td> 150</td></tr><tr><td>3</td><td>A</td><td>2023-06-10</td><td>UK</td><td>2023</td><td>6</td><td>2</td><td> sandwich</td><td> 120</td></tr><tr><td>3</td><td>A</td><td>2022-06-11</td><td>UK</td><td>2022</td><td>6</td><td>2</td><td> sandwich</td><td> 120</td></tr><tr><td>3</td><td>A</td><td>2023-06-11</td><td>UK</td><td>2023</td><td>6</td><td>2</td><td> sandwich</td><td> 120</td></tr><tr><td>2</td><td>B</td><td>2022-11-06</td><td>UK</td><td>2022</td><td>11</td><td>4</td><td> Chowmin</td><td> 150</td></tr><tr><td>2</td><td>B</td><td>2023-06-02</td><td>UK</td><td>2023</td><td>6</td><td>2</td><td> Chowmin</td><td> 150</td></tr><tr><td>1</td><td>B</td><td>2023-06-04</td><td>UK</td><td>2023</td><td>6</td><td>2</td><td> PIZZA</td><td> 100</td></tr><tr><td>1</td><td>B</td><td>2023-11-11</td><td>UK</td><td>2023</td><td>11</td><td>4</td><td> PIZZA</td><td> 100</td></tr><tr><td>3</td><td>B</td><td>2023-06-16</td><td>UK</td><td>2023</td><td>6</td><td>2</td><td> sandwich</td><td> 120</td></tr><tr><td>3</td><td>B</td><td>2023-11-06</td><td>UK</td><td>2023</td><td>11</td><td>4</td><td> sandwich</td><td> 120</td></tr><tr><td>3</td><td>C</td><td>2023-06-06</td><td>UK</td><td>2023</td><td>6</td><td>2</td><td> sandwich</td><td> 120</td></tr><tr><td>1</td><td>C</td><td>2023-06-06</td><td>USA</td><td>2023</td><td>6</td><td>2</td><td> PIZZA</td><td> 100</td></tr><tr><td>6</td><td>C</td><td>2023-06-11</td><td>USA</td><td>2023</td><td>6</td><td>2</td><td> Pasta</td><td> 180</td></tr><tr><td>3</td><td>D</td><td>2022-11-16</td><td>USA</td><td>2022</td><td>11</td><td>4</td><td> sandwich</td><td> 120</td></tr><tr><td>5</td><td>D</td><td>2023-11-06</td><td>USA</td><td>2023</td><td>11</td><td>4</td><td> Biryani</td><td> 80</td></tr><tr><td>3</td><td>E</td><td>2023-11-06</td><td>USA</td><td>2023</td><td>11</td><td>4</td><td> sandwich</td><td> 120</td></tr><tr><td>4</td><td>E</td><td>2022-11-06</td><td>USA</td><td>2022</td><td>11</td><td>4</td><td> Dosa</td><td> 110</td></tr><tr><td>4</td><td>E</td><td>2023-11-11</td><td>USA</td><td>2023</td><td>11</td><td>4</td><td> Dosa</td><td> 110</td></tr></tbody></table></div>"
      ]
     },
     "metadata": {
      "application/vnd.databricks.v1+output": {
       "addedWidgets": {},
       "aggData": [],
       "aggError": "",
       "aggOverflow": false,
       "aggSchema": [],
       "aggSeriesLimitReached": false,
       "aggType": "",
       "arguments": {},
       "columnCustomDisplayInfos": {},
       "data": [
        [
         1,
         "A",
         "2023-01-01",
         "India",
         2023,
         1,
         1,
         " PIZZA",
         " 100"
        ],
        [
         2,
         "A",
         "2022-01-01",
         "India",
         2022,
         1,
         1,
         " Chowmin",
         " 150"
        ],
        [
         2,
         "A",
         "2023-01-07",
         "India",
         2023,
         1,
         1,
         " Chowmin",
         " 150"
        ],
        [
         3,
         "A",
         "2023-01-10",
         "India",
         2023,
         1,
         1,
         " sandwich",
         " 120"
        ],
        [
         3,
         "A",
         "2022-01-11",
         "India",
         2022,
         1,
         1,
         " sandwich",
         " 120"
        ],
        [
         3,
         "A",
         "2023-01-11",
         "India",
         2023,
         1,
         1,
         " sandwich",
         " 120"
        ],
        [
         2,
         "B",
         "2022-02-01",
         "India",
         2022,
         2,
         1,
         " Chowmin",
         " 150"
        ],
        [
         2,
         "B",
         "2023-01-02",
         "India",
         2023,
         1,
         1,
         " Chowmin",
         " 150"
        ],
        [
         1,
         "B",
         "2023-01-04",
         "India",
         2023,
         1,
         1,
         " PIZZA",
         " 100"
        ],
        [
         1,
         "B",
         "2023-02-11",
         "India",
         2023,
         2,
         1,
         " PIZZA",
         " 100"
        ],
        [
         3,
         "B",
         "2023-01-16",
         "India",
         2023,
         1,
         1,
         " sandwich",
         " 120"
        ],
        [
         3,
         "B",
         "2022-02-01",
         "India",
         2022,
         2,
         1,
         " sandwich",
         " 120"
        ],
        [
         3,
         "C",
         "2023-01-01",
         "India",
         2023,
         1,
         1,
         " sandwich",
         " 120"
        ],
        [
         1,
         "C",
         "2023-01-01",
         "UK",
         2023,
         1,
         1,
         " PIZZA",
         " 100"
        ],
        [
         6,
         "C",
         "2022-01-07",
         "UK",
         2022,
         1,
         1,
         " Pasta",
         " 180"
        ],
        [
         3,
         "D",
         "2023-02-16",
         "UK",
         2023,
         2,
         1,
         " sandwich",
         " 120"
        ],
        [
         5,
         "D",
         "2022-02-01",
         "UK",
         2022,
         2,
         1,
         " Biryani",
         " 80"
        ],
        [
         3,
         "E",
         "2023-02-01",
         "UK",
         2023,
         2,
         1,
         " sandwich",
         " 120"
        ],
        [
         4,
         "E",
         "2023-02-01",
         "UK",
         2023,
         2,
         1,
         " Dosa",
         " 110"
        ],
        [
         4,
         "E",
         "2023-02-07",
         "UK",
         2023,
         2,
         1,
         " Dosa",
         " 110"
        ],
        [
         2,
         "A",
         "2022-01-01",
         "UK",
         2022,
         1,
         1,
         " Chowmin",
         " 150"
        ],
        [
         2,
         "A",
         "2023-01-07",
         "UK",
         2023,
         1,
         1,
         " Chowmin",
         " 150"
        ],
        [
         3,
         "A",
         "2023-01-10",
         "UK",
         2023,
         1,
         1,
         " sandwich",
         " 120"
        ],
        [
         3,
         "A",
         "2022-01-11",
         "UK",
         2022,
         1,
         1,
         " sandwich",
         " 120"
        ],
        [
         3,
         "A",
         "2023-01-11",
         "UK",
         2023,
         1,
         1,
         " sandwich",
         " 120"
        ],
        [
         2,
         "B",
         "2022-03-01",
         "UK",
         2022,
         3,
         1,
         " Chowmin",
         " 150"
        ],
        [
         2,
         "B",
         "2023-01-02",
         "UK",
         2023,
         1,
         1,
         " Chowmin",
         " 150"
        ],
        [
         1,
         "B",
         "2023-01-04",
         "UK",
         2023,
         1,
         1,
         " PIZZA",
         " 100"
        ],
        [
         1,
         "B",
         "2023-03-11",
         "UK",
         2023,
         3,
         1,
         " PIZZA",
         " 100"
        ],
        [
         3,
         "B",
         "2023-01-16",
         "UK",
         2023,
         1,
         1,
         " sandwich",
         " 120"
        ],
        [
         3,
         "B",
         "2023-03-01",
         "UK",
         2023,
         3,
         1,
         " sandwich",
         " 120"
        ],
        [
         3,
         "C",
         "2023-01-01",
         "UK",
         2023,
         1,
         1,
         " sandwich",
         " 120"
        ],
        [
         1,
         "C",
         "2023-01-01",
         "USA",
         2023,
         1,
         1,
         " PIZZA",
         " 100"
        ],
        [
         6,
         "C",
         "2023-01-07",
         "USA",
         2023,
         1,
         1,
         " Pasta",
         " 180"
        ],
        [
         3,
         "D",
         "2022-03-16",
         "USA",
         2022,
         3,
         1,
         " sandwich",
         " 120"
        ],
        [
         5,
         "D",
         "2023-03-01",
         "USA",
         2023,
         3,
         1,
         " Biryani",
         " 80"
        ],
        [
         3,
         "E",
         "2023-03-01",
         "USA",
         2023,
         3,
         1,
         " sandwich",
         " 120"
        ],
        [
         4,
         "E",
         "2022-03-01",
         "USA",
         2022,
         3,
         1,
         " Dosa",
         " 110"
        ],
        [
         4,
         "E",
         "2023-03-07",
         "USA",
         2023,
         3,
         1,
         " Dosa",
         " 110"
        ],
        [
         1,
         "A",
         "2023-05-05",
         "India",
         2023,
         5,
         2,
         " PIZZA",
         " 100"
        ],
        [
         2,
         "A",
         "2022-05-05",
         "India",
         2022,
         5,
         2,
         " Chowmin",
         " 150"
        ],
        [
         2,
         "A",
         "2023-05-07",
         "India",
         2023,
         5,
         2,
         " Chowmin",
         " 150"
        ],
        [
         3,
         "A",
         "2023-05-10",
         "India",
         2023,
         5,
         2,
         " sandwich",
         " 120"
        ],
        [
         3,
         "A",
         "2022-05-11",
         "India",
         2022,
         5,
         2,
         " sandwich",
         " 120"
        ],
        [
         3,
         "A",
         "2023-05-11",
         "India",
         2023,
         5,
         2,
         " sandwich",
         " 120"
        ],
        [
         2,
         "B",
         "2022-02-05",
         "India",
         2022,
         2,
         1,
         " Chowmin",
         " 150"
        ],
        [
         2,
         "B",
         "2023-05-02",
         "India",
         2023,
         5,
         2,
         " Chowmin",
         " 150"
        ],
        [
         1,
         "B",
         "2023-05-04",
         "India",
         2023,
         5,
         2,
         " PIZZA",
         " 100"
        ],
        [
         1,
         "B",
         "2023-02-11",
         "India",
         2023,
         2,
         1,
         " PIZZA",
         " 100"
        ],
        [
         3,
         "B",
         "2023-05-16",
         "India",
         2023,
         5,
         2,
         " sandwich",
         " 120"
        ],
        [
         3,
         "B",
         "2022-02-05",
         "India",
         2022,
         2,
         1,
         " sandwich",
         " 120"
        ],
        [
         3,
         "C",
         "2023-05-05",
         "India",
         2023,
         5,
         2,
         " sandwich",
         " 120"
        ],
        [
         1,
         "C",
         "2023-05-05",
         "UK",
         2023,
         5,
         2,
         " PIZZA",
         " 100"
        ],
        [
         6,
         "C",
         "2022-05-07",
         "UK",
         2022,
         5,
         2,
         " Pasta",
         " 180"
        ],
        [
         3,
         "D",
         "2023-02-16",
         "UK",
         2023,
         2,
         1,
         " sandwich",
         " 120"
        ],
        [
         5,
         "D",
         "2022-02-05",
         "UK",
         2022,
         2,
         1,
         " Biryani",
         " 80"
        ],
        [
         3,
         "E",
         "2023-02-05",
         "UK",
         2023,
         2,
         1,
         " sandwich",
         " 120"
        ],
        [
         4,
         "E",
         "2023-02-05",
         "UK",
         2023,
         2,
         1,
         " Dosa",
         " 110"
        ],
        [
         4,
         "E",
         "2023-02-07",
         "UK",
         2023,
         2,
         1,
         " Dosa",
         " 110"
        ],
        [
         2,
         "A",
         "2022-05-05",
         "UK",
         2022,
         5,
         2,
         " Chowmin",
         " 150"
        ],
        [
         2,
         "A",
         "2023-05-07",
         "UK",
         2023,
         5,
         2,
         " Chowmin",
         " 150"
        ],
        [
         3,
         "A",
         "2023-05-10",
         "UK",
         2023,
         5,
         2,
         " sandwich",
         " 120"
        ],
        [
         3,
         "A",
         "2022-05-11",
         "UK",
         2022,
         5,
         2,
         " sandwich",
         " 120"
        ],
        [
         3,
         "A",
         "2023-05-11",
         "UK",
         2023,
         5,
         2,
         " sandwich",
         " 120"
        ],
        [
         2,
         "B",
         "2022-07-05",
         "UK",
         2022,
         7,
         3,
         " Chowmin",
         " 150"
        ],
        [
         2,
         "B",
         "2023-05-02",
         "UK",
         2023,
         5,
         2,
         " Chowmin",
         " 150"
        ],
        [
         1,
         "B",
         "2023-05-04",
         "UK",
         2023,
         5,
         2,
         " PIZZA",
         " 100"
        ],
        [
         1,
         "B",
         "2023-07-11",
         "UK",
         2023,
         7,
         3,
         " PIZZA",
         " 100"
        ],
        [
         3,
         "B",
         "2023-05-16",
         "UK",
         2023,
         5,
         2,
         " sandwich",
         " 120"
        ],
        [
         3,
         "B",
         "2023-07-05",
         "UK",
         2023,
         7,
         3,
         " sandwich",
         " 120"
        ],
        [
         3,
         "C",
         "2023-05-05",
         "UK",
         2023,
         5,
         2,
         " sandwich",
         " 120"
        ],
        [
         1,
         "C",
         "2023-05-05",
         "USA",
         2023,
         5,
         2,
         " PIZZA",
         " 100"
        ],
        [
         6,
         "C",
         "2023-05-07",
         "USA",
         2023,
         5,
         2,
         " Pasta",
         " 180"
        ],
        [
         3,
         "D",
         "2022-07-16",
         "USA",
         2022,
         7,
         3,
         " sandwich",
         " 120"
        ],
        [
         5,
         "D",
         "2023-07-05",
         "USA",
         2023,
         7,
         3,
         " Biryani",
         " 80"
        ],
        [
         3,
         "E",
         "2023-07-05",
         "USA",
         2023,
         7,
         3,
         " sandwich",
         " 120"
        ],
        [
         4,
         "E",
         "2022-07-05",
         "USA",
         2022,
         7,
         3,
         " Dosa",
         " 110"
        ],
        [
         4,
         "E",
         "2023-07-07",
         "USA",
         2023,
         7,
         3,
         " Dosa",
         " 110"
        ],
        [
         1,
         "A",
         "2023-06-06",
         "India",
         2023,
         6,
         2,
         " PIZZA",
         " 100"
        ],
        [
         2,
         "A",
         "2022-06-06",
         "India",
         2022,
         6,
         2,
         " Chowmin",
         " 150"
        ],
        [
         2,
         "A",
         "2023-06-11",
         "India",
         2023,
         6,
         2,
         " Chowmin",
         " 150"
        ],
        [
         3,
         "A",
         "2023-06-10",
         "India",
         2023,
         6,
         2,
         " sandwich",
         " 120"
        ],
        [
         3,
         "A",
         "2022-06-11",
         "India",
         2022,
         6,
         2,
         " sandwich",
         " 120"
        ],
        [
         3,
         "A",
         "2023-06-11",
         "India",
         2023,
         6,
         2,
         " sandwich",
         " 120"
        ],
        [
         2,
         "B",
         "2022-02-06",
         "India",
         2022,
         2,
         1,
         " Chowmin",
         " 150"
        ],
        [
         2,
         "B",
         "2023-06-02",
         "India",
         2023,
         6,
         2,
         " Chowmin",
         " 150"
        ],
        [
         1,
         "B",
         "2023-06-04",
         "India",
         2023,
         6,
         2,
         " PIZZA",
         " 100"
        ],
        [
         1,
         "B",
         "2023-02-11",
         "India",
         2023,
         2,
         1,
         " PIZZA",
         " 100"
        ],
        [
         3,
         "B",
         "2023-06-16",
         "India",
         2023,
         6,
         2,
         " sandwich",
         " 120"
        ],
        [
         3,
         "B",
         "2022-02-06",
         "India",
         2022,
         2,
         1,
         " sandwich",
         " 120"
        ],
        [
         3,
         "C",
         "2023-06-06",
         "India",
         2023,
         6,
         2,
         " sandwich",
         " 120"
        ],
        [
         1,
         "C",
         "2023-06-06",
         "UK",
         2023,
         6,
         2,
         " PIZZA",
         " 100"
        ],
        [
         6,
         "C",
         "2022-06-11",
         "UK",
         2022,
         6,
         2,
         " Pasta",
         " 180"
        ],
        [
         3,
         "D",
         "2023-02-16",
         "UK",
         2023,
         2,
         1,
         " sandwich",
         " 120"
        ],
        [
         5,
         "D",
         "2022-02-06",
         "UK",
         2022,
         2,
         1,
         " Biryani",
         " 80"
        ],
        [
         3,
         "E",
         "2023-02-06",
         "UK",
         2023,
         2,
         1,
         " sandwich",
         " 120"
        ],
        [
         4,
         "E",
         "2023-02-06",
         "UK",
         2023,
         2,
         1,
         " Dosa",
         " 110"
        ],
        [
         4,
         "E",
         "2023-02-11",
         "UK",
         2023,
         2,
         1,
         " Dosa",
         " 110"
        ],
        [
         2,
         "A",
         "2022-06-06",
         "UK",
         2022,
         6,
         2,
         " Chowmin",
         " 150"
        ],
        [
         2,
         "A",
         "2023-06-11",
         "UK",
         2023,
         6,
         2,
         " Chowmin",
         " 150"
        ],
        [
         3,
         "A",
         "2023-06-10",
         "UK",
         2023,
         6,
         2,
         " sandwich",
         " 120"
        ],
        [
         3,
         "A",
         "2022-06-11",
         "UK",
         2022,
         6,
         2,
         " sandwich",
         " 120"
        ],
        [
         3,
         "A",
         "2023-06-11",
         "UK",
         2023,
         6,
         2,
         " sandwich",
         " 120"
        ],
        [
         2,
         "B",
         "2022-11-06",
         "UK",
         2022,
         11,
         4,
         " Chowmin",
         " 150"
        ],
        [
         2,
         "B",
         "2023-06-02",
         "UK",
         2023,
         6,
         2,
         " Chowmin",
         " 150"
        ],
        [
         1,
         "B",
         "2023-06-04",
         "UK",
         2023,
         6,
         2,
         " PIZZA",
         " 100"
        ],
        [
         1,
         "B",
         "2023-11-11",
         "UK",
         2023,
         11,
         4,
         " PIZZA",
         " 100"
        ],
        [
         3,
         "B",
         "2023-06-16",
         "UK",
         2023,
         6,
         2,
         " sandwich",
         " 120"
        ],
        [
         3,
         "B",
         "2023-11-06",
         "UK",
         2023,
         11,
         4,
         " sandwich",
         " 120"
        ],
        [
         3,
         "C",
         "2023-06-06",
         "UK",
         2023,
         6,
         2,
         " sandwich",
         " 120"
        ],
        [
         1,
         "C",
         "2023-06-06",
         "USA",
         2023,
         6,
         2,
         " PIZZA",
         " 100"
        ],
        [
         6,
         "C",
         "2023-06-11",
         "USA",
         2023,
         6,
         2,
         " Pasta",
         " 180"
        ],
        [
         3,
         "D",
         "2022-11-16",
         "USA",
         2022,
         11,
         4,
         " sandwich",
         " 120"
        ],
        [
         5,
         "D",
         "2023-11-06",
         "USA",
         2023,
         11,
         4,
         " Biryani",
         " 80"
        ],
        [
         3,
         "E",
         "2023-11-06",
         "USA",
         2023,
         11,
         4,
         " sandwich",
         " 120"
        ],
        [
         4,
         "E",
         "2022-11-06",
         "USA",
         2022,
         11,
         4,
         " Dosa",
         " 110"
        ],
        [
         4,
         "E",
         "2023-11-11",
         "USA",
         2023,
         11,
         4,
         " Dosa",
         " 110"
        ]
       ],
       "datasetInfos": [],
       "dbfsResultPath": null,
       "isJsonSchema": true,
       "metadata": {},
       "overflow": false,
       "plotOptions": {
        "customPlotOptions": {},
        "displayType": "table",
        "pivotAggregation": null,
        "pivotColumns": null,
        "xColumns": null,
        "yColumns": null
       },
       "removedWidgets": [],
       "schema": [
        {
         "metadata": "{}",
         "name": "product_id",
         "type": "\"integer\""
        },
        {
         "metadata": "{}",
         "name": "customer_id",
         "type": "\"string\""
        },
        {
         "metadata": "{}",
         "name": "order_date",
         "type": "\"date\""
        },
        {
         "metadata": "{}",
         "name": "Location",
         "type": "\"string\""
        },
        {
         "metadata": "{}",
         "name": "order_year",
         "type": "\"integer\""
        },
        {
         "metadata": "{}",
         "name": "order_month",
         "type": "\"integer\""
        },
        {
         "metadata": "{}",
         "name": "order_quarter",
         "type": "\"integer\""
        },
        {
         "metadata": "{}",
         "name": "product_name",
         "type": "\"string\""
        },
        {
         "metadata": "{}",
         "name": "price",
         "type": "\"string\""
        }
       ],
       "type": "table"
      }
     },
     "output_type": "display_data"
    }
   ],
   "source": [
    "df.groupBy(\"customer_id\").agg({\"price\":\"sum\"}).show()\n",
    "display(df)"
   ]
  },
  {
   "cell_type": "code",
   "execution_count": 0,
   "metadata": {
    "application/vnd.databricks.v1+cell": {
     "cellMetadata": {
      "byteLimit": 2048000,
      "rowLimit": 10000
     },
     "inputWidgets": {},
     "nuid": "bab76aa0-5d04-424c-9d87-a469ecce3014",
     "showTitle": false,
     "title": ""
    }
   },
   "outputs": [
    {
     "output_type": "stream",
     "name": "stdout",
     "output_type": "stream",
     "text": [
      "+----------+-----------+----------+--------+----------+-----------+-------------+------------+-----+\n|product_id|customer_id|order_date|Location|order_year|order_month|order_quarter|product_name|price|\n+----------+-----------+----------+--------+----------+-----------+-------------+------------+-----+\n|         1|          A|2023-01-01|   India|      2023|          1|            1|       PIZZA|  100|\n|         2|          A|2022-01-01|   India|      2022|          1|            1|     Chowmin|  150|\n|         2|          A|2023-01-07|   India|      2023|          1|            1|     Chowmin|  150|\n|         3|          A|2023-01-10|   India|      2023|          1|            1|    sandwich|  120|\n|         3|          A|2022-01-11|   India|      2022|          1|            1|    sandwich|  120|\n|         3|          A|2023-01-11|   India|      2023|          1|            1|    sandwich|  120|\n|         2|          B|2022-02-01|   India|      2022|          2|            1|     Chowmin|  150|\n|         2|          B|2023-01-02|   India|      2023|          1|            1|     Chowmin|  150|\n|         1|          B|2023-01-04|   India|      2023|          1|            1|       PIZZA|  100|\n|         1|          B|2023-02-11|   India|      2023|          2|            1|       PIZZA|  100|\n|         3|          B|2023-01-16|   India|      2023|          1|            1|    sandwich|  120|\n|         3|          B|2022-02-01|   India|      2022|          2|            1|    sandwich|  120|\n|         3|          C|2023-01-01|   India|      2023|          1|            1|    sandwich|  120|\n|         1|          C|2023-01-01|      UK|      2023|          1|            1|       PIZZA|  100|\n|         6|          C|2022-01-07|      UK|      2022|          1|            1|       Pasta|  180|\n|         3|          D|2023-02-16|      UK|      2023|          2|            1|    sandwich|  120|\n|         5|          D|2022-02-01|      UK|      2022|          2|            1|     Biryani|   80|\n|         3|          E|2023-02-01|      UK|      2023|          2|            1|    sandwich|  120|\n|         4|          E|2023-02-01|      UK|      2023|          2|            1|        Dosa|  110|\n|         4|          E|2023-02-07|      UK|      2023|          2|            1|        Dosa|  110|\n+----------+-----------+----------+--------+----------+-----------+-------------+------------+-----+\nonly showing top 20 rows\n\nroot\n |-- product_id: integer (nullable = true)\n |-- customer_id: string (nullable = true)\n |-- order_date: date (nullable = true)\n |-- Location: string (nullable = true)\n |-- order_year: integer (nullable = true)\n |-- order_month: integer (nullable = true)\n |-- order_quarter: integer (nullable = true)\n |-- product_name: string (nullable = true)\n |-- price: string (nullable = true)\n\n"
     ]
    }
   ],
   "source": [
    "##total amount spent by each food category\n",
    "new_df=sales_df.join(df_menu,\"product_id\",how=\"inner\")\n",
    "new_df.show()\n",
    "new_df.printSchema()"
   ]
  },
  {
   "cell_type": "code",
   "execution_count": 0,
   "metadata": {
    "application/vnd.databricks.v1+cell": {
     "cellMetadata": {
      "byteLimit": 2048000,
      "rowLimit": 10000
     },
     "inputWidgets": {},
     "nuid": "217a0552-4b0b-49d7-87dd-41f3ef757d82",
     "showTitle": false,
     "title": ""
    }
   },
   "outputs": [
    {
     "output_type": "stream",
     "name": "stdout",
     "output_type": "stream",
     "text": [
      "+------------+----------+\n|product_name|sum(price)|\n+------------+----------+\n|     Biryani|     480.0|\n|     Chowmin|    3600.0|\n|        Dosa|    1320.0|\n|       PIZZA|    2100.0|\n|       Pasta|    1080.0|\n|    sandwich|    5760.0|\n+------------+----------+\n\n"
     ]
    }
   ],
   "source": [
    "new_df.groupBy(\"product_name\").agg({\"price\":\"sum\"}).orderBy(\"product_name\").show()"
   ]
  },
  {
   "cell_type": "code",
   "execution_count": 0,
   "metadata": {
    "application/vnd.databricks.v1+cell": {
     "cellMetadata": {
      "byteLimit": 2048000,
      "rowLimit": 10000
     },
     "inputWidgets": {},
     "nuid": "e590e0f7-509c-494e-bcc2-4d847c22224b",
     "showTitle": false,
     "title": ""
    }
   },
   "outputs": [
    {
     "output_type": "stream",
     "name": "stdout",
     "output_type": "stream",
     "text": [
      "+-----------+----------+\n|order_month|sum(price)|\n+-----------+----------+\n|          1|    2960.0|\n|          2|    2730.0|\n|          3|     910.0|\n|          5|    2960.0|\n|          6|    2960.0|\n|          7|     910.0|\n|         11|     910.0|\n+-----------+----------+\n\n"
     ]
    }
   ],
   "source": [
    "##total amount of sales in each month\n",
    "df_s=sales_df.join(df_menu,on=\"product_id\",how=\"inner\")\n",
    "df_s.groupBy(\"order_month\").agg({\"price\":\"sum\"}).orderBy(\"order_month\").show()"
   ]
  },
  {
   "cell_type": "code",
   "execution_count": 0,
   "metadata": {
    "application/vnd.databricks.v1+cell": {
     "cellMetadata": {
      "byteLimit": 2048000,
      "rowLimit": 10000
     },
     "inputWidgets": {},
     "nuid": "7c09a5df-8555-4241-a1f9-61e77140f471",
     "showTitle": false,
     "title": ""
    }
   },
   "outputs": [
    {
     "output_type": "stream",
     "name": "stdout",
     "output_type": "stream",
     "text": [
      "+----------+----------+\n|order_year|sum(price)|\n+----------+----------+\n|      2022|    4350.0|\n|      2023|    9990.0|\n+----------+----------+\n\n"
     ]
    }
   ],
   "source": [
    "##yearly sales\n",
    "df_s.groupBy(\"order_year\").agg({'price':\"sum\"}).orderBy(\"order_year\").show()"
   ]
  },
  {
   "cell_type": "code",
   "execution_count": 0,
   "metadata": {
    "application/vnd.databricks.v1+cell": {
     "cellMetadata": {
      "byteLimit": 2048000,
      "rowLimit": 10000
     },
     "inputWidgets": {},
     "nuid": "f16a992d-3348-466f-9a18-50623a5e7db6",
     "showTitle": false,
     "title": ""
    }
   },
   "outputs": [
    {
     "output_type": "stream",
     "name": "stdout",
     "output_type": "stream",
     "text": [
      "+-------------+----------+\n|ordeR_quarter|sum(price)|\n+-------------+----------+\n|            1|    6600.0|\n|            2|    5920.0|\n|            3|     910.0|\n|            4|     910.0|\n+-------------+----------+\n\n"
     ]
    }
   ],
   "source": [
    "##quartely sales\n",
    "df_s.groupBy(\"ordeR_quarter\").agg({\"price\":\"sum\"}).orderBy(\"order_quarter\").show()"
   ]
  },
  {
   "cell_type": "code",
   "execution_count": 0,
   "metadata": {
    "application/vnd.databricks.v1+cell": {
     "cellMetadata": {
      "byteLimit": 2048000,
      "rowLimit": 10000
     },
     "inputWidgets": {},
     "nuid": "5abb9755-1ebf-4e07-9c39-0523f0617746",
     "showTitle": false,
     "title": ""
    }
   },
   "outputs": [
    {
     "output_type": "stream",
     "name": "stdout",
     "output_type": "stream",
     "text": [
      "+-----------+-----------------+\n|customer_id|count(product_id)|\n+-----------+-----------------+\n|          E|               18|\n|          B|               36|\n|          D|               12|\n|          C|               18|\n|          A|               33|\n+-----------+-----------------+\n\n"
     ]
    }
   ],
   "source": [
    "##total amount of order by each category\n",
    "df_s.groupBy(\"customer_id\").agg({\"product_id\":\"count\"}).show()"
   ]
  },
  {
   "cell_type": "code",
   "execution_count": 0,
   "metadata": {
    "application/vnd.databricks.v1+cell": {
     "cellMetadata": {
      "byteLimit": 2048000,
      "rowLimit": 10000
     },
     "inputWidgets": {},
     "nuid": "14863bd3-fe2b-4f73-982d-2bdd3deb7274",
     "showTitle": false,
     "title": ""
    }
   },
   "outputs": [
    {
     "output_type": "stream",
     "name": "stdout",
     "output_type": "stream",
     "text": [
      "+------------+-----------------+\n|product_name|count(product_id)|\n+------------+-----------------+\n|       Pasta|                6|\n|       PIZZA|               21|\n|    sandwich|               48|\n|     Biryani|                6|\n|     Chowmin|               24|\n|        Dosa|               12|\n+------------+-----------------+\n\n"
     ]
    }
   ],
   "source": [
    "##how many times each product purchased\n",
    "df_s.groupBy(\"product_name\").agg({\"product_id\":\"count\"}).show()\n"
   ]
  },
  {
   "cell_type": "code",
   "execution_count": 0,
   "metadata": {
    "application/vnd.databricks.v1+cell": {
     "cellMetadata": {
      "byteLimit": 2048000,
      "rowLimit": 10000
     },
     "inputWidgets": {},
     "nuid": "7ab71f05-8aee-4834-b243-8e1169ce39fd",
     "showTitle": false,
     "title": ""
    }
   },
   "outputs": [
    {
     "output_type": "stream",
     "name": "stdout",
     "output_type": "stream",
     "text": [
      "+------------+-----------------+\n|product_name|count(product_id)|\n+------------+-----------------+\n|    sandwich|               48|\n|     Chowmin|               24|\n|       PIZZA|               21|\n|        Dosa|               12|\n|       Pasta|                6|\n+------------+-----------------+\nonly showing top 5 rows\n\n"
     ]
    }
   ],
   "source": [
    "from pyspark.sql.functions import desc\n",
    "\n",
    "df_s.groupBy(\"product_name\").agg({\"product_id\": \"count\"}).alias(\"product_count\")\\\n",
    "    .orderBy(desc(\"count(product_id)\")).show(5)\n"
   ]
  },
  {
   "cell_type": "code",
   "execution_count": 0,
   "metadata": {
    "application/vnd.databricks.v1+cell": {
     "cellMetadata": {
      "byteLimit": 2048000,
      "rowLimit": 10000
     },
     "inputWidgets": {},
     "nuid": "7a1dedf3-a73b-480b-9513-333d7f2f0059",
     "showTitle": false,
     "title": ""
    }
   },
   "outputs": [
    {
     "output_type": "stream",
     "name": "stdout",
     "output_type": "stream",
     "text": [
      "+------------+-----------------+\n|product_name|count(product_id)|\n+------------+-----------------+\n|    sandwich|               48|\n+------------+-----------------+\nonly showing top 1 row\n\n"
     ]
    }
   ],
   "source": [
    "##top ordered items\n",
    "df_s.groupBy(\"product_name\").agg({\"product_id\":\"count\"}).alias(\"product_count\")\\\n",
    "    .orderBy(desc(\"count(product_id)\")).show(1)"
   ]
  },
  {
   "cell_type": "code",
   "execution_count": 0,
   "metadata": {
    "application/vnd.databricks.v1+cell": {
     "cellMetadata": {},
     "inputWidgets": {},
     "nuid": "ec6155d0-60e0-426d-bedf-711398c95661",
     "showTitle": false,
     "title": ""
    }
   },
   "outputs": [],
   "source": []
  },
  {
   "cell_type": "code",
   "execution_count": 0,
   "metadata": {
    "application/vnd.databricks.v1+cell": {
     "cellMetadata": {
      "byteLimit": 2048000,
      "rowLimit": 10000
     },
     "inputWidgets": {},
     "nuid": "c9104b05-83fb-45f4-9c66-edefd8e81c46",
     "showTitle": false,
     "title": ""
    }
   },
   "outputs": [
    {
     "output_type": "stream",
     "name": "stdout",
     "output_type": "stream",
     "text": [
      "+-----------+-----------------+\n|customer_id|count(product_id)|\n+-----------+-----------------+\n|          E|               18|\n|          B|               36|\n|          D|               12|\n|          C|               18|\n|          A|               33|\n+-----------+-----------------+\n\n"
     ]
    }
   ],
   "source": [
    "#frequency of customers visited\n",
    "df_s.groupBy(\"customer_id\").agg({\"product_id\":\"count\"}).show()"
   ]
  },
  {
   "cell_type": "code",
   "execution_count": 0,
   "metadata": {
    "application/vnd.databricks.v1+cell": {
     "cellMetadata": {
      "byteLimit": 2048000,
      "rowLimit": 10000
     },
     "inputWidgets": {},
     "nuid": "e123d2cc-4385-454b-92d5-143ad7cceaa1",
     "showTitle": false,
     "title": ""
    }
   },
   "outputs": [
    {
     "output_type": "display_data",
     "data": {
      "text/plain": [
       "\u001B[0;31m---------------------------------------------------------------------------\u001B[0m\n",
       "\u001B[0;31mAnalysisException\u001B[0m                         Traceback (most recent call last)\n",
       "File \u001B[0;32m<command-3650431256076648>:2\u001B[0m\n",
       "\u001B[1;32m      1\u001B[0m \u001B[38;5;66;03m##how many times each product purchased\u001B[39;00m\n",
       "\u001B[0;32m----> 2\u001B[0m most_df\u001B[38;5;241m=\u001B[39m\u001B[43mdf_s\u001B[49m\u001B[38;5;241;43m.\u001B[39;49m\u001B[43mgroupBy\u001B[49m\u001B[43m(\u001B[49m\u001B[38;5;124;43m\"\u001B[39;49m\u001B[38;5;124;43mproduct_id\u001B[39;49m\u001B[38;5;124;43m\"\u001B[39;49m\u001B[43m,\u001B[49m\u001B[38;5;124;43m\"\u001B[39;49m\u001B[38;5;124;43mproduct_name\u001B[39;49m\u001B[38;5;124;43m\"\u001B[39;49m\u001B[43m)\u001B[49m\u001B[38;5;241;43m.\u001B[39;49m\u001B[43magg\u001B[49m\u001B[43m(\u001B[49m\u001B[43m{\u001B[49m\u001B[38;5;124;43m\"\u001B[39;49m\u001B[38;5;124;43mproduct_id\u001B[39;49m\u001B[38;5;124;43m\"\u001B[39;49m\u001B[43m:\u001B[49m\u001B[38;5;124;43m\"\u001B[39;49m\u001B[38;5;124;43mcount\u001B[39;49m\u001B[38;5;124;43m\"\u001B[39;49m\u001B[43m}\u001B[49m\u001B[43m)\u001B[49m\u001B[38;5;241;43m.\u001B[39;49m\u001B[43malias\u001B[49m\u001B[43m(\u001B[49m\u001B[38;5;124;43m\"\u001B[39;49m\u001B[38;5;124;43mproduct_count\u001B[39;49m\u001B[38;5;124;43m\"\u001B[39;49m\u001B[43m)\u001B[49m\u001B[43m\\\u001B[49m\n",
       "\u001B[1;32m      3\u001B[0m \u001B[43m    \u001B[49m\u001B[38;5;241;43m.\u001B[39;49m\u001B[43morderBy\u001B[49m\u001B[43m(\u001B[49m\u001B[38;5;124;43m\"\u001B[39;49m\u001B[38;5;124;43mproduct_count\u001B[39;49m\u001B[38;5;124;43m\"\u001B[39;49m\u001B[43m,\u001B[49m\u001B[43mascending\u001B[49m\u001B[38;5;241;43m=\u001B[39;49m\u001B[38;5;28;43;01mFalse\u001B[39;49;00m\u001B[43m)\u001B[49m\u001B[38;5;241m.\u001B[39mdrop(\u001B[38;5;124m\"\u001B[39m\u001B[38;5;124mproduct_id\u001B[39m\u001B[38;5;124m\"\u001B[39m)\u001B[38;5;241m.\u001B[39mshow()\n",
       "\n",
       "File \u001B[0;32m/databricks/spark/python/pyspark/instrumentation_utils.py:48\u001B[0m, in \u001B[0;36m_wrap_function.<locals>.wrapper\u001B[0;34m(*args, **kwargs)\u001B[0m\n",
       "\u001B[1;32m     46\u001B[0m start \u001B[38;5;241m=\u001B[39m time\u001B[38;5;241m.\u001B[39mperf_counter()\n",
       "\u001B[1;32m     47\u001B[0m \u001B[38;5;28;01mtry\u001B[39;00m:\n",
       "\u001B[0;32m---> 48\u001B[0m     res \u001B[38;5;241m=\u001B[39m \u001B[43mfunc\u001B[49m\u001B[43m(\u001B[49m\u001B[38;5;241;43m*\u001B[39;49m\u001B[43margs\u001B[49m\u001B[43m,\u001B[49m\u001B[43m \u001B[49m\u001B[38;5;241;43m*\u001B[39;49m\u001B[38;5;241;43m*\u001B[39;49m\u001B[43mkwargs\u001B[49m\u001B[43m)\u001B[49m\n",
       "\u001B[1;32m     49\u001B[0m     logger\u001B[38;5;241m.\u001B[39mlog_success(\n",
       "\u001B[1;32m     50\u001B[0m         module_name, class_name, function_name, time\u001B[38;5;241m.\u001B[39mperf_counter() \u001B[38;5;241m-\u001B[39m start, signature\n",
       "\u001B[1;32m     51\u001B[0m     )\n",
       "\u001B[1;32m     52\u001B[0m     \u001B[38;5;28;01mreturn\u001B[39;00m res\n",
       "\n",
       "File \u001B[0;32m/databricks/spark/python/pyspark/sql/dataframe.py:2613\u001B[0m, in \u001B[0;36mDataFrame.sort\u001B[0;34m(self, *cols, **kwargs)\u001B[0m\n",
       "\u001B[1;32m   2522\u001B[0m \u001B[38;5;28;01mdef\u001B[39;00m \u001B[38;5;21msort\u001B[39m(\n",
       "\u001B[1;32m   2523\u001B[0m     \u001B[38;5;28mself\u001B[39m, \u001B[38;5;241m*\u001B[39mcols: Union[\u001B[38;5;28mstr\u001B[39m, Column, List[Union[\u001B[38;5;28mstr\u001B[39m, Column]]], \u001B[38;5;241m*\u001B[39m\u001B[38;5;241m*\u001B[39mkwargs: Any\n",
       "\u001B[1;32m   2524\u001B[0m ) \u001B[38;5;241m-\u001B[39m\u001B[38;5;241m>\u001B[39m \u001B[38;5;124m\"\u001B[39m\u001B[38;5;124mDataFrame\u001B[39m\u001B[38;5;124m\"\u001B[39m:\n",
       "\u001B[1;32m   2525\u001B[0m     \u001B[38;5;124;03m\"\"\"Returns a new :class:`DataFrame` sorted by the specified column(s).\u001B[39;00m\n",
       "\u001B[1;32m   2526\u001B[0m \n",
       "\u001B[1;32m   2527\u001B[0m \u001B[38;5;124;03m    .. versionadded:: 1.3.0\u001B[39;00m\n",
       "\u001B[0;32m   (...)\u001B[0m\n",
       "\u001B[1;32m   2611\u001B[0m \u001B[38;5;124;03m    +---+-----+\u001B[39;00m\n",
       "\u001B[1;32m   2612\u001B[0m \u001B[38;5;124;03m    \"\"\"\u001B[39;00m\n",
       "\u001B[0;32m-> 2613\u001B[0m     jdf \u001B[38;5;241m=\u001B[39m \u001B[38;5;28;43mself\u001B[39;49m\u001B[38;5;241;43m.\u001B[39;49m\u001B[43m_jdf\u001B[49m\u001B[38;5;241;43m.\u001B[39;49m\u001B[43msort\u001B[49m\u001B[43m(\u001B[49m\u001B[38;5;28;43mself\u001B[39;49m\u001B[38;5;241;43m.\u001B[39;49m\u001B[43m_sort_cols\u001B[49m\u001B[43m(\u001B[49m\u001B[43mcols\u001B[49m\u001B[43m,\u001B[49m\u001B[43m \u001B[49m\u001B[43mkwargs\u001B[49m\u001B[43m)\u001B[49m\u001B[43m)\u001B[49m\n",
       "\u001B[1;32m   2614\u001B[0m     \u001B[38;5;28;01mreturn\u001B[39;00m DataFrame(jdf, \u001B[38;5;28mself\u001B[39m\u001B[38;5;241m.\u001B[39msparkSession)\n",
       "\n",
       "File \u001B[0;32m/databricks/spark/python/lib/py4j-0.10.9.5-src.zip/py4j/java_gateway.py:1321\u001B[0m, in \u001B[0;36mJavaMember.__call__\u001B[0;34m(self, *args)\u001B[0m\n",
       "\u001B[1;32m   1315\u001B[0m command \u001B[38;5;241m=\u001B[39m proto\u001B[38;5;241m.\u001B[39mCALL_COMMAND_NAME \u001B[38;5;241m+\u001B[39m\\\n",
       "\u001B[1;32m   1316\u001B[0m     \u001B[38;5;28mself\u001B[39m\u001B[38;5;241m.\u001B[39mcommand_header \u001B[38;5;241m+\u001B[39m\\\n",
       "\u001B[1;32m   1317\u001B[0m     args_command \u001B[38;5;241m+\u001B[39m\\\n",
       "\u001B[1;32m   1318\u001B[0m     proto\u001B[38;5;241m.\u001B[39mEND_COMMAND_PART\n",
       "\u001B[1;32m   1320\u001B[0m answer \u001B[38;5;241m=\u001B[39m \u001B[38;5;28mself\u001B[39m\u001B[38;5;241m.\u001B[39mgateway_client\u001B[38;5;241m.\u001B[39msend_command(command)\n",
       "\u001B[0;32m-> 1321\u001B[0m return_value \u001B[38;5;241m=\u001B[39m \u001B[43mget_return_value\u001B[49m\u001B[43m(\u001B[49m\n",
       "\u001B[1;32m   1322\u001B[0m \u001B[43m    \u001B[49m\u001B[43manswer\u001B[49m\u001B[43m,\u001B[49m\u001B[43m \u001B[49m\u001B[38;5;28;43mself\u001B[39;49m\u001B[38;5;241;43m.\u001B[39;49m\u001B[43mgateway_client\u001B[49m\u001B[43m,\u001B[49m\u001B[43m \u001B[49m\u001B[38;5;28;43mself\u001B[39;49m\u001B[38;5;241;43m.\u001B[39;49m\u001B[43mtarget_id\u001B[49m\u001B[43m,\u001B[49m\u001B[43m \u001B[49m\u001B[38;5;28;43mself\u001B[39;49m\u001B[38;5;241;43m.\u001B[39;49m\u001B[43mname\u001B[49m\u001B[43m)\u001B[49m\n",
       "\u001B[1;32m   1324\u001B[0m \u001B[38;5;28;01mfor\u001B[39;00m temp_arg \u001B[38;5;129;01min\u001B[39;00m temp_args:\n",
       "\u001B[1;32m   1325\u001B[0m     temp_arg\u001B[38;5;241m.\u001B[39m_detach()\n",
       "\n",
       "File \u001B[0;32m/databricks/spark/python/pyspark/errors/exceptions.py:234\u001B[0m, in \u001B[0;36mcapture_sql_exception.<locals>.deco\u001B[0;34m(*a, **kw)\u001B[0m\n",
       "\u001B[1;32m    230\u001B[0m converted \u001B[38;5;241m=\u001B[39m convert_exception(e\u001B[38;5;241m.\u001B[39mjava_exception)\n",
       "\u001B[1;32m    231\u001B[0m \u001B[38;5;28;01mif\u001B[39;00m \u001B[38;5;129;01mnot\u001B[39;00m \u001B[38;5;28misinstance\u001B[39m(converted, UnknownException):\n",
       "\u001B[1;32m    232\u001B[0m     \u001B[38;5;66;03m# Hide where the exception came from that shows a non-Pythonic\u001B[39;00m\n",
       "\u001B[1;32m    233\u001B[0m     \u001B[38;5;66;03m# JVM exception message.\u001B[39;00m\n",
       "\u001B[0;32m--> 234\u001B[0m     \u001B[38;5;28;01mraise\u001B[39;00m converted \u001B[38;5;28;01mfrom\u001B[39;00m \u001B[38;5;28mNone\u001B[39m\n",
       "\u001B[1;32m    235\u001B[0m \u001B[38;5;28;01melse\u001B[39;00m:\n",
       "\u001B[1;32m    236\u001B[0m     \u001B[38;5;28;01mraise\u001B[39;00m\n",
       "\n",
       "\u001B[0;31mAnalysisException\u001B[0m: [UNRESOLVED_COLUMN.WITH_SUGGESTION] A column or function parameter with name `product_count` cannot be resolved. Did you mean one of the following? [`product_count`.`product_id`, `product_count`.`product_name`, `product_count`.`count(product_id)`].;\n",
       "'Sort ['product_count DESC NULLS LAST], true\n",
       "+- SubqueryAlias product_count\n",
       "   +- Aggregate [product_id#1907, product_name#2199], [product_id#1907, product_name#2199, count(product_id#1907) AS count(product_id)#2769L]\n",
       "      +- Project [product_id#1907, customer_id#1908, order_date#1909, Location#1910, order_year#1933, order_month#1941, order_quarter#1949, product_name#2199, price#2200]\n",
       "         +- Join Inner, (product_id#1907 = product_id#2198)\n",
       "            :- Project [product_id#1907, customer_id#1908, order_date#1909, Location#1910, order_year#1933, order_month#1941, order_quarter#1949]\n",
       "            :  +- Project [product_id#1907, customer_id#1908, order_date#1909, Location#1910, source_order#1911, order_year#1933, order_month#1941, quarter(order_date#1909) AS order_quarter#1949]\n",
       "            :     +- Project [product_id#1907, customer_id#1908, order_date#1909, Location#1910, source_order#1911, order_year#1933, month(order_date#1909) AS order_month#1941]\n",
       "            :        +- Project [product_id#1907, customer_id#1908, order_date#1909, Location#1910, source_order#1911, year(order_date#1909) AS order_year#1933]\n",
       "            :           +- Relation [product_id#1907,customer_id#1908,order_date#1909,Location#1910,source_order#1911] csv\n",
       "            +- Relation [product_id#2198,product_name#2199,price#2200] csv\n"
      ]
     },
     "metadata": {
      "application/vnd.databricks.v1+output": {
       "arguments": {},
       "data": "\u001B[0;31m---------------------------------------------------------------------------\u001B[0m\n\u001B[0;31mAnalysisException\u001B[0m                         Traceback (most recent call last)\nFile \u001B[0;32m<command-3650431256076648>:2\u001B[0m\n\u001B[1;32m      1\u001B[0m \u001B[38;5;66;03m##how many times each product purchased\u001B[39;00m\n\u001B[0;32m----> 2\u001B[0m most_df\u001B[38;5;241m=\u001B[39m\u001B[43mdf_s\u001B[49m\u001B[38;5;241;43m.\u001B[39;49m\u001B[43mgroupBy\u001B[49m\u001B[43m(\u001B[49m\u001B[38;5;124;43m\"\u001B[39;49m\u001B[38;5;124;43mproduct_id\u001B[39;49m\u001B[38;5;124;43m\"\u001B[39;49m\u001B[43m,\u001B[49m\u001B[38;5;124;43m\"\u001B[39;49m\u001B[38;5;124;43mproduct_name\u001B[39;49m\u001B[38;5;124;43m\"\u001B[39;49m\u001B[43m)\u001B[49m\u001B[38;5;241;43m.\u001B[39;49m\u001B[43magg\u001B[49m\u001B[43m(\u001B[49m\u001B[43m{\u001B[49m\u001B[38;5;124;43m\"\u001B[39;49m\u001B[38;5;124;43mproduct_id\u001B[39;49m\u001B[38;5;124;43m\"\u001B[39;49m\u001B[43m:\u001B[49m\u001B[38;5;124;43m\"\u001B[39;49m\u001B[38;5;124;43mcount\u001B[39;49m\u001B[38;5;124;43m\"\u001B[39;49m\u001B[43m}\u001B[49m\u001B[43m)\u001B[49m\u001B[38;5;241;43m.\u001B[39;49m\u001B[43malias\u001B[49m\u001B[43m(\u001B[49m\u001B[38;5;124;43m\"\u001B[39;49m\u001B[38;5;124;43mproduct_count\u001B[39;49m\u001B[38;5;124;43m\"\u001B[39;49m\u001B[43m)\u001B[49m\u001B[43m\\\u001B[49m\n\u001B[1;32m      3\u001B[0m \u001B[43m    \u001B[49m\u001B[38;5;241;43m.\u001B[39;49m\u001B[43morderBy\u001B[49m\u001B[43m(\u001B[49m\u001B[38;5;124;43m\"\u001B[39;49m\u001B[38;5;124;43mproduct_count\u001B[39;49m\u001B[38;5;124;43m\"\u001B[39;49m\u001B[43m,\u001B[49m\u001B[43mascending\u001B[49m\u001B[38;5;241;43m=\u001B[39;49m\u001B[38;5;28;43;01mFalse\u001B[39;49;00m\u001B[43m)\u001B[49m\u001B[38;5;241m.\u001B[39mdrop(\u001B[38;5;124m\"\u001B[39m\u001B[38;5;124mproduct_id\u001B[39m\u001B[38;5;124m\"\u001B[39m)\u001B[38;5;241m.\u001B[39mshow()\n\nFile \u001B[0;32m/databricks/spark/python/pyspark/instrumentation_utils.py:48\u001B[0m, in \u001B[0;36m_wrap_function.<locals>.wrapper\u001B[0;34m(*args, **kwargs)\u001B[0m\n\u001B[1;32m     46\u001B[0m start \u001B[38;5;241m=\u001B[39m time\u001B[38;5;241m.\u001B[39mperf_counter()\n\u001B[1;32m     47\u001B[0m \u001B[38;5;28;01mtry\u001B[39;00m:\n\u001B[0;32m---> 48\u001B[0m     res \u001B[38;5;241m=\u001B[39m \u001B[43mfunc\u001B[49m\u001B[43m(\u001B[49m\u001B[38;5;241;43m*\u001B[39;49m\u001B[43margs\u001B[49m\u001B[43m,\u001B[49m\u001B[43m \u001B[49m\u001B[38;5;241;43m*\u001B[39;49m\u001B[38;5;241;43m*\u001B[39;49m\u001B[43mkwargs\u001B[49m\u001B[43m)\u001B[49m\n\u001B[1;32m     49\u001B[0m     logger\u001B[38;5;241m.\u001B[39mlog_success(\n\u001B[1;32m     50\u001B[0m         module_name, class_name, function_name, time\u001B[38;5;241m.\u001B[39mperf_counter() \u001B[38;5;241m-\u001B[39m start, signature\n\u001B[1;32m     51\u001B[0m     )\n\u001B[1;32m     52\u001B[0m     \u001B[38;5;28;01mreturn\u001B[39;00m res\n\nFile \u001B[0;32m/databricks/spark/python/pyspark/sql/dataframe.py:2613\u001B[0m, in \u001B[0;36mDataFrame.sort\u001B[0;34m(self, *cols, **kwargs)\u001B[0m\n\u001B[1;32m   2522\u001B[0m \u001B[38;5;28;01mdef\u001B[39;00m \u001B[38;5;21msort\u001B[39m(\n\u001B[1;32m   2523\u001B[0m     \u001B[38;5;28mself\u001B[39m, \u001B[38;5;241m*\u001B[39mcols: Union[\u001B[38;5;28mstr\u001B[39m, Column, List[Union[\u001B[38;5;28mstr\u001B[39m, Column]]], \u001B[38;5;241m*\u001B[39m\u001B[38;5;241m*\u001B[39mkwargs: Any\n\u001B[1;32m   2524\u001B[0m ) \u001B[38;5;241m-\u001B[39m\u001B[38;5;241m>\u001B[39m \u001B[38;5;124m\"\u001B[39m\u001B[38;5;124mDataFrame\u001B[39m\u001B[38;5;124m\"\u001B[39m:\n\u001B[1;32m   2525\u001B[0m     \u001B[38;5;124;03m\"\"\"Returns a new :class:`DataFrame` sorted by the specified column(s).\u001B[39;00m\n\u001B[1;32m   2526\u001B[0m \n\u001B[1;32m   2527\u001B[0m \u001B[38;5;124;03m    .. versionadded:: 1.3.0\u001B[39;00m\n\u001B[0;32m   (...)\u001B[0m\n\u001B[1;32m   2611\u001B[0m \u001B[38;5;124;03m    +---+-----+\u001B[39;00m\n\u001B[1;32m   2612\u001B[0m \u001B[38;5;124;03m    \"\"\"\u001B[39;00m\n\u001B[0;32m-> 2613\u001B[0m     jdf \u001B[38;5;241m=\u001B[39m \u001B[38;5;28;43mself\u001B[39;49m\u001B[38;5;241;43m.\u001B[39;49m\u001B[43m_jdf\u001B[49m\u001B[38;5;241;43m.\u001B[39;49m\u001B[43msort\u001B[49m\u001B[43m(\u001B[49m\u001B[38;5;28;43mself\u001B[39;49m\u001B[38;5;241;43m.\u001B[39;49m\u001B[43m_sort_cols\u001B[49m\u001B[43m(\u001B[49m\u001B[43mcols\u001B[49m\u001B[43m,\u001B[49m\u001B[43m \u001B[49m\u001B[43mkwargs\u001B[49m\u001B[43m)\u001B[49m\u001B[43m)\u001B[49m\n\u001B[1;32m   2614\u001B[0m     \u001B[38;5;28;01mreturn\u001B[39;00m DataFrame(jdf, \u001B[38;5;28mself\u001B[39m\u001B[38;5;241m.\u001B[39msparkSession)\n\nFile \u001B[0;32m/databricks/spark/python/lib/py4j-0.10.9.5-src.zip/py4j/java_gateway.py:1321\u001B[0m, in \u001B[0;36mJavaMember.__call__\u001B[0;34m(self, *args)\u001B[0m\n\u001B[1;32m   1315\u001B[0m command \u001B[38;5;241m=\u001B[39m proto\u001B[38;5;241m.\u001B[39mCALL_COMMAND_NAME \u001B[38;5;241m+\u001B[39m\\\n\u001B[1;32m   1316\u001B[0m     \u001B[38;5;28mself\u001B[39m\u001B[38;5;241m.\u001B[39mcommand_header \u001B[38;5;241m+\u001B[39m\\\n\u001B[1;32m   1317\u001B[0m     args_command \u001B[38;5;241m+\u001B[39m\\\n\u001B[1;32m   1318\u001B[0m     proto\u001B[38;5;241m.\u001B[39mEND_COMMAND_PART\n\u001B[1;32m   1320\u001B[0m answer \u001B[38;5;241m=\u001B[39m \u001B[38;5;28mself\u001B[39m\u001B[38;5;241m.\u001B[39mgateway_client\u001B[38;5;241m.\u001B[39msend_command(command)\n\u001B[0;32m-> 1321\u001B[0m return_value \u001B[38;5;241m=\u001B[39m \u001B[43mget_return_value\u001B[49m\u001B[43m(\u001B[49m\n\u001B[1;32m   1322\u001B[0m \u001B[43m    \u001B[49m\u001B[43manswer\u001B[49m\u001B[43m,\u001B[49m\u001B[43m \u001B[49m\u001B[38;5;28;43mself\u001B[39;49m\u001B[38;5;241;43m.\u001B[39;49m\u001B[43mgateway_client\u001B[49m\u001B[43m,\u001B[49m\u001B[43m \u001B[49m\u001B[38;5;28;43mself\u001B[39;49m\u001B[38;5;241;43m.\u001B[39;49m\u001B[43mtarget_id\u001B[49m\u001B[43m,\u001B[49m\u001B[43m \u001B[49m\u001B[38;5;28;43mself\u001B[39;49m\u001B[38;5;241;43m.\u001B[39;49m\u001B[43mname\u001B[49m\u001B[43m)\u001B[49m\n\u001B[1;32m   1324\u001B[0m \u001B[38;5;28;01mfor\u001B[39;00m temp_arg \u001B[38;5;129;01min\u001B[39;00m temp_args:\n\u001B[1;32m   1325\u001B[0m     temp_arg\u001B[38;5;241m.\u001B[39m_detach()\n\nFile \u001B[0;32m/databricks/spark/python/pyspark/errors/exceptions.py:234\u001B[0m, in \u001B[0;36mcapture_sql_exception.<locals>.deco\u001B[0;34m(*a, **kw)\u001B[0m\n\u001B[1;32m    230\u001B[0m converted \u001B[38;5;241m=\u001B[39m convert_exception(e\u001B[38;5;241m.\u001B[39mjava_exception)\n\u001B[1;32m    231\u001B[0m \u001B[38;5;28;01mif\u001B[39;00m \u001B[38;5;129;01mnot\u001B[39;00m \u001B[38;5;28misinstance\u001B[39m(converted, UnknownException):\n\u001B[1;32m    232\u001B[0m     \u001B[38;5;66;03m# Hide where the exception came from that shows a non-Pythonic\u001B[39;00m\n\u001B[1;32m    233\u001B[0m     \u001B[38;5;66;03m# JVM exception message.\u001B[39;00m\n\u001B[0;32m--> 234\u001B[0m     \u001B[38;5;28;01mraise\u001B[39;00m converted \u001B[38;5;28;01mfrom\u001B[39;00m \u001B[38;5;28mNone\u001B[39m\n\u001B[1;32m    235\u001B[0m \u001B[38;5;28;01melse\u001B[39;00m:\n\u001B[1;32m    236\u001B[0m     \u001B[38;5;28;01mraise\u001B[39;00m\n\n\u001B[0;31mAnalysisException\u001B[0m: [UNRESOLVED_COLUMN.WITH_SUGGESTION] A column or function parameter with name `product_count` cannot be resolved. Did you mean one of the following? [`product_count`.`product_id`, `product_count`.`product_name`, `product_count`.`count(product_id)`].;\n'Sort ['product_count DESC NULLS LAST], true\n+- SubqueryAlias product_count\n   +- Aggregate [product_id#1907, product_name#2199], [product_id#1907, product_name#2199, count(product_id#1907) AS count(product_id)#2769L]\n      +- Project [product_id#1907, customer_id#1908, order_date#1909, Location#1910, order_year#1933, order_month#1941, order_quarter#1949, product_name#2199, price#2200]\n         +- Join Inner, (product_id#1907 = product_id#2198)\n            :- Project [product_id#1907, customer_id#1908, order_date#1909, Location#1910, order_year#1933, order_month#1941, order_quarter#1949]\n            :  +- Project [product_id#1907, customer_id#1908, order_date#1909, Location#1910, source_order#1911, order_year#1933, order_month#1941, quarter(order_date#1909) AS order_quarter#1949]\n            :     +- Project [product_id#1907, customer_id#1908, order_date#1909, Location#1910, source_order#1911, order_year#1933, month(order_date#1909) AS order_month#1941]\n            :        +- Project [product_id#1907, customer_id#1908, order_date#1909, Location#1910, source_order#1911, year(order_date#1909) AS order_year#1933]\n            :           +- Relation [product_id#1907,customer_id#1908,order_date#1909,Location#1910,source_order#1911] csv\n            +- Relation [product_id#2198,product_name#2199,price#2200] csv\n",
       "errorSummary": "<span class='ansi-red-fg'>AnalysisException</span>: [UNRESOLVED_COLUMN.WITH_SUGGESTION] A column or function parameter with name `product_count` cannot be resolved. Did you mean one of the following? [`product_count`.`product_id`, `product_count`.`product_name`, `product_count`.`count(product_id)`].;\n'Sort ['product_count DESC NULLS LAST], true\n+- SubqueryAlias product_count\n   +- Aggregate [product_id#1907, product_name#2199], [product_id#1907, product_name#2199, count(product_id#1907) AS count(product_id)#2769L]\n      +- Project [product_id#1907, customer_id#1908, order_date#1909, Location#1910, order_year#1933, order_month#1941, order_quarter#1949, product_name#2199, price#2200]\n         +- Join Inner, (product_id#1907 = product_id#2198)\n            :- Project [product_id#1907, customer_id#1908, order_date#1909, Location#1910, order_year#1933, order_month#1941, order_quarter#1949]\n            :  +- Project [product_id#1907, customer_id#1908, order_date#1909, Location#1910, source_order#1911, order_year#1933, order_month#1941, quarter(order_date#1909) AS order_quarter#1949]\n            :     +- Project [product_id#1907, customer_id#1908, order_date#1909, Location#1910, source_order#1911, order_year#1933, month(order_date#1909) AS order_month#1941]\n            :        +- Project [product_id#1907, customer_id#1908, order_date#1909, Location#1910, source_order#1911, year(order_date#1909) AS order_year#1933]\n            :           +- Relation [product_id#1907,customer_id#1908,order_date#1909,Location#1910,source_order#1911] csv\n            +- Relation [product_id#2198,product_name#2199,price#2200] csv\n",
       "errorTraceType": "ansi",
       "metadata": {},
       "type": "ipynbError"
      }
     },
     "output_type": "display_data"
    }
   ],
   "source": [
    "##how many times each product purchased\n",
    "most_df=df_s.groupBy(\"product_id\",\"product_name\").agg({\"product_id\":\"count\"}).alias(\"product_count\")\\\n",
    "    .orderBy(\"product_count\",ascending=False).drop(\"product_id\").show()"
   ]
  }
 ],
 "metadata": {
  "application/vnd.databricks.v1+notebook": {
   "dashboards": [],
   "language": "python",
   "notebookMetadata": {
    "pythonIndentUnit": 4
   },
   "notebookName": "pyspark_project_sales_analysis",
   "widgets": {}
  }
 },
 "nbformat": 4,
 "nbformat_minor": 0
}
